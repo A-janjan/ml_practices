{
 "cells": [
  {
   "cell_type": "code",
   "execution_count": null,
   "metadata": {
    "colab": {
     "base_uri": "https://localhost:8080/"
    },
    "id": "aWZe96O7lc33",
    "outputId": "e5cbf4bb-3eb7-4668-9e06-5e511fea3c04"
   },
   "outputs": [
    {
     "name": "stdout",
     "output_type": "stream",
     "text": [
      "Collecting pyro-ppl\n",
      "  Downloading pyro_ppl-1.9.1-py3-none-any.whl.metadata (7.8 kB)\n",
      "Requirement already satisfied: numpy>=1.7 in /usr/local/lib/python3.10/dist-packages (from pyro-ppl) (1.26.4)\n",
      "Requirement already satisfied: opt-einsum>=2.3.2 in /usr/local/lib/python3.10/dist-packages (from pyro-ppl) (3.4.0)\n",
      "Collecting pyro-api>=0.1.1 (from pyro-ppl)\n",
      "  Downloading pyro_api-0.1.2-py3-none-any.whl.metadata (2.5 kB)\n",
      "Requirement already satisfied: torch>=2.0 in /usr/local/lib/python3.10/dist-packages (from pyro-ppl) (2.5.0+cu121)\n",
      "Requirement already satisfied: tqdm>=4.36 in /usr/local/lib/python3.10/dist-packages (from pyro-ppl) (4.66.6)\n",
      "Requirement already satisfied: filelock in /usr/local/lib/python3.10/dist-packages (from torch>=2.0->pyro-ppl) (3.16.1)\n",
      "Requirement already satisfied: typing-extensions>=4.8.0 in /usr/local/lib/python3.10/dist-packages (from torch>=2.0->pyro-ppl) (4.12.2)\n",
      "Requirement already satisfied: networkx in /usr/local/lib/python3.10/dist-packages (from torch>=2.0->pyro-ppl) (3.4.2)\n",
      "Requirement already satisfied: jinja2 in /usr/local/lib/python3.10/dist-packages (from torch>=2.0->pyro-ppl) (3.1.4)\n",
      "Requirement already satisfied: fsspec in /usr/local/lib/python3.10/dist-packages (from torch>=2.0->pyro-ppl) (2024.10.0)\n",
      "Requirement already satisfied: sympy==1.13.1 in /usr/local/lib/python3.10/dist-packages (from torch>=2.0->pyro-ppl) (1.13.1)\n",
      "Requirement already satisfied: mpmath<1.4,>=1.1.0 in /usr/local/lib/python3.10/dist-packages (from sympy==1.13.1->torch>=2.0->pyro-ppl) (1.3.0)\n",
      "Requirement already satisfied: MarkupSafe>=2.0 in /usr/local/lib/python3.10/dist-packages (from jinja2->torch>=2.0->pyro-ppl) (3.0.2)\n",
      "Downloading pyro_ppl-1.9.1-py3-none-any.whl (755 kB)\n",
      "\u001b[2K   \u001b[90m━━━━━━━━━━━━━━━━━━━━━━━━━━━━━━━━━━━━━━━━\u001b[0m \u001b[32m756.0/756.0 kB\u001b[0m \u001b[31m8.3 MB/s\u001b[0m eta \u001b[36m0:00:00\u001b[0m\n",
      "\u001b[?25hDownloading pyro_api-0.1.2-py3-none-any.whl (11 kB)\n",
      "Installing collected packages: pyro-api, pyro-ppl\n",
      "Successfully installed pyro-api-0.1.2 pyro-ppl-1.9.1\n"
     ]
    }
   ],
   "source": [
    "! pip install pyro-ppl"
   ]
  },
  {
   "cell_type": "code",
   "execution_count": null,
   "metadata": {
    "id": "Brbf0U95k973"
   },
   "outputs": [],
   "source": [
    "import logging\n",
    "import os\n",
    "\n",
    "import torch\n",
    "import numpy as np\n",
    "import pandas as pd\n",
    "import seaborn as sns\n",
    "import matplotlib.pyplot as plt\n",
    "\n",
    "import pyro"
   ]
  },
  {
   "cell_type": "code",
   "execution_count": null,
   "metadata": {
    "id": "cnqlfV1SlEJO"
   },
   "outputs": [],
   "source": [
    "DATA_URL = \"https://d2hg8soec8ck9v.cloudfront.net/datasets/rugged_data.csv\""
   ]
  },
  {
   "cell_type": "code",
   "execution_count": null,
   "metadata": {
    "colab": {
     "base_uri": "https://localhost:8080/",
     "height": 424
    },
    "id": "sV9kfH7FgXzm",
    "outputId": "a75cbd53-24f9-4a09-e41f-083e06a0c5d8"
   },
   "outputs": [
    {
     "data": {
      "application/vnd.google.colaboratory.intrinsic+json": {
       "summary": "{\n  \"name\": \"df\",\n  \"rows\": 234,\n  \"fields\": [\n    {\n      \"column\": \"cont_africa\",\n      \"properties\": {\n        \"dtype\": \"number\",\n        \"std\": 0,\n        \"min\": 0,\n        \"max\": 1,\n        \"num_unique_values\": 2,\n        \"samples\": [\n          1,\n          0\n        ],\n        \"semantic_type\": \"\",\n        \"description\": \"\"\n      }\n    },\n    {\n      \"column\": \"rugged\",\n      \"properties\": {\n        \"dtype\": \"number\",\n        \"std\": 1.3700522157890485,\n        \"min\": 0.0,\n        \"max\": 7.811,\n        \"num_unique_values\": 224,\n        \"samples\": [\n          2.688,\n          0.666\n        ],\n        \"semantic_type\": \"\",\n        \"description\": \"\"\n      }\n    },\n    {\n      \"column\": \"rgdppc_2000\",\n      \"properties\": {\n        \"dtype\": \"number\",\n        \"std\": 9699.99147241296,\n        \"min\": 466.647,\n        \"max\": 57792.09,\n        \"num_unique_values\": 170,\n        \"samples\": [\n          4594.274,\n          1882.687\n        ],\n        \"semantic_type\": \"\",\n        \"description\": \"\"\n      }\n    }\n  ]\n}",
       "type": "dataframe",
       "variable_name": "df"
      },
      "text/html": [
       "\n",
       "  <div id=\"df-a8a38240-0b31-49a0-aeaf-e7f9e37eae57\" class=\"colab-df-container\">\n",
       "    <div>\n",
       "<style scoped>\n",
       "    .dataframe tbody tr th:only-of-type {\n",
       "        vertical-align: middle;\n",
       "    }\n",
       "\n",
       "    .dataframe tbody tr th {\n",
       "        vertical-align: top;\n",
       "    }\n",
       "\n",
       "    .dataframe thead th {\n",
       "        text-align: right;\n",
       "    }\n",
       "</style>\n",
       "<table border=\"1\" class=\"dataframe\">\n",
       "  <thead>\n",
       "    <tr style=\"text-align: right;\">\n",
       "      <th></th>\n",
       "      <th>cont_africa</th>\n",
       "      <th>rugged</th>\n",
       "      <th>rgdppc_2000</th>\n",
       "    </tr>\n",
       "  </thead>\n",
       "  <tbody>\n",
       "    <tr>\n",
       "      <th>0</th>\n",
       "      <td>0</td>\n",
       "      <td>0.462</td>\n",
       "      <td>NaN</td>\n",
       "    </tr>\n",
       "    <tr>\n",
       "      <th>1</th>\n",
       "      <td>0</td>\n",
       "      <td>2.518</td>\n",
       "      <td>NaN</td>\n",
       "    </tr>\n",
       "    <tr>\n",
       "      <th>2</th>\n",
       "      <td>1</td>\n",
       "      <td>0.858</td>\n",
       "      <td>1794.729</td>\n",
       "    </tr>\n",
       "    <tr>\n",
       "      <th>3</th>\n",
       "      <td>0</td>\n",
       "      <td>0.013</td>\n",
       "      <td>NaN</td>\n",
       "    </tr>\n",
       "    <tr>\n",
       "      <th>4</th>\n",
       "      <td>0</td>\n",
       "      <td>3.427</td>\n",
       "      <td>3703.113</td>\n",
       "    </tr>\n",
       "    <tr>\n",
       "      <th>...</th>\n",
       "      <td>...</td>\n",
       "      <td>...</td>\n",
       "      <td>...</td>\n",
       "    </tr>\n",
       "    <tr>\n",
       "      <th>229</th>\n",
       "      <td>0</td>\n",
       "      <td>1.677</td>\n",
       "      <td>4860.269</td>\n",
       "    </tr>\n",
       "    <tr>\n",
       "      <th>230</th>\n",
       "      <td>0</td>\n",
       "      <td>2.323</td>\n",
       "      <td>787.749</td>\n",
       "    </tr>\n",
       "    <tr>\n",
       "      <th>231</th>\n",
       "      <td>1</td>\n",
       "      <td>1.761</td>\n",
       "      <td>9419.122</td>\n",
       "    </tr>\n",
       "    <tr>\n",
       "      <th>232</th>\n",
       "      <td>1</td>\n",
       "      <td>0.533</td>\n",
       "      <td>774.010</td>\n",
       "    </tr>\n",
       "    <tr>\n",
       "      <th>233</th>\n",
       "      <td>1</td>\n",
       "      <td>1.194</td>\n",
       "      <td>2499.215</td>\n",
       "    </tr>\n",
       "  </tbody>\n",
       "</table>\n",
       "<p>234 rows × 3 columns</p>\n",
       "</div>\n",
       "    <div class=\"colab-df-buttons\">\n",
       "\n",
       "  <div class=\"colab-df-container\">\n",
       "    <button class=\"colab-df-convert\" onclick=\"convertToInteractive('df-a8a38240-0b31-49a0-aeaf-e7f9e37eae57')\"\n",
       "            title=\"Convert this dataframe to an interactive table.\"\n",
       "            style=\"display:none;\">\n",
       "\n",
       "  <svg xmlns=\"http://www.w3.org/2000/svg\" height=\"24px\" viewBox=\"0 -960 960 960\">\n",
       "    <path d=\"M120-120v-720h720v720H120Zm60-500h600v-160H180v160Zm220 220h160v-160H400v160Zm0 220h160v-160H400v160ZM180-400h160v-160H180v160Zm440 0h160v-160H620v160ZM180-180h160v-160H180v160Zm440 0h160v-160H620v160Z\"/>\n",
       "  </svg>\n",
       "    </button>\n",
       "\n",
       "  <style>\n",
       "    .colab-df-container {\n",
       "      display:flex;\n",
       "      gap: 12px;\n",
       "    }\n",
       "\n",
       "    .colab-df-convert {\n",
       "      background-color: #E8F0FE;\n",
       "      border: none;\n",
       "      border-radius: 50%;\n",
       "      cursor: pointer;\n",
       "      display: none;\n",
       "      fill: #1967D2;\n",
       "      height: 32px;\n",
       "      padding: 0 0 0 0;\n",
       "      width: 32px;\n",
       "    }\n",
       "\n",
       "    .colab-df-convert:hover {\n",
       "      background-color: #E2EBFA;\n",
       "      box-shadow: 0px 1px 2px rgba(60, 64, 67, 0.3), 0px 1px 3px 1px rgba(60, 64, 67, 0.15);\n",
       "      fill: #174EA6;\n",
       "    }\n",
       "\n",
       "    .colab-df-buttons div {\n",
       "      margin-bottom: 4px;\n",
       "    }\n",
       "\n",
       "    [theme=dark] .colab-df-convert {\n",
       "      background-color: #3B4455;\n",
       "      fill: #D2E3FC;\n",
       "    }\n",
       "\n",
       "    [theme=dark] .colab-df-convert:hover {\n",
       "      background-color: #434B5C;\n",
       "      box-shadow: 0px 1px 3px 1px rgba(0, 0, 0, 0.15);\n",
       "      filter: drop-shadow(0px 1px 2px rgba(0, 0, 0, 0.3));\n",
       "      fill: #FFFFFF;\n",
       "    }\n",
       "  </style>\n",
       "\n",
       "    <script>\n",
       "      const buttonEl =\n",
       "        document.querySelector('#df-a8a38240-0b31-49a0-aeaf-e7f9e37eae57 button.colab-df-convert');\n",
       "      buttonEl.style.display =\n",
       "        google.colab.kernel.accessAllowed ? 'block' : 'none';\n",
       "\n",
       "      async function convertToInteractive(key) {\n",
       "        const element = document.querySelector('#df-a8a38240-0b31-49a0-aeaf-e7f9e37eae57');\n",
       "        const dataTable =\n",
       "          await google.colab.kernel.invokeFunction('convertToInteractive',\n",
       "                                                    [key], {});\n",
       "        if (!dataTable) return;\n",
       "\n",
       "        const docLinkHtml = 'Like what you see? Visit the ' +\n",
       "          '<a target=\"_blank\" href=https://colab.research.google.com/notebooks/data_table.ipynb>data table notebook</a>'\n",
       "          + ' to learn more about interactive tables.';\n",
       "        element.innerHTML = '';\n",
       "        dataTable['output_type'] = 'display_data';\n",
       "        await google.colab.output.renderOutput(dataTable, element);\n",
       "        const docLink = document.createElement('div');\n",
       "        docLink.innerHTML = docLinkHtml;\n",
       "        element.appendChild(docLink);\n",
       "      }\n",
       "    </script>\n",
       "  </div>\n",
       "\n",
       "\n",
       "<div id=\"df-7fe3a7c2-5af1-4b68-a4d5-1218703298ef\">\n",
       "  <button class=\"colab-df-quickchart\" onclick=\"quickchart('df-7fe3a7c2-5af1-4b68-a4d5-1218703298ef')\"\n",
       "            title=\"Suggest charts\"\n",
       "            style=\"display:none;\">\n",
       "\n",
       "<svg xmlns=\"http://www.w3.org/2000/svg\" height=\"24px\"viewBox=\"0 0 24 24\"\n",
       "     width=\"24px\">\n",
       "    <g>\n",
       "        <path d=\"M19 3H5c-1.1 0-2 .9-2 2v14c0 1.1.9 2 2 2h14c1.1 0 2-.9 2-2V5c0-1.1-.9-2-2-2zM9 17H7v-7h2v7zm4 0h-2V7h2v10zm4 0h-2v-4h2v4z\"/>\n",
       "    </g>\n",
       "</svg>\n",
       "  </button>\n",
       "\n",
       "<style>\n",
       "  .colab-df-quickchart {\n",
       "      --bg-color: #E8F0FE;\n",
       "      --fill-color: #1967D2;\n",
       "      --hover-bg-color: #E2EBFA;\n",
       "      --hover-fill-color: #174EA6;\n",
       "      --disabled-fill-color: #AAA;\n",
       "      --disabled-bg-color: #DDD;\n",
       "  }\n",
       "\n",
       "  [theme=dark] .colab-df-quickchart {\n",
       "      --bg-color: #3B4455;\n",
       "      --fill-color: #D2E3FC;\n",
       "      --hover-bg-color: #434B5C;\n",
       "      --hover-fill-color: #FFFFFF;\n",
       "      --disabled-bg-color: #3B4455;\n",
       "      --disabled-fill-color: #666;\n",
       "  }\n",
       "\n",
       "  .colab-df-quickchart {\n",
       "    background-color: var(--bg-color);\n",
       "    border: none;\n",
       "    border-radius: 50%;\n",
       "    cursor: pointer;\n",
       "    display: none;\n",
       "    fill: var(--fill-color);\n",
       "    height: 32px;\n",
       "    padding: 0;\n",
       "    width: 32px;\n",
       "  }\n",
       "\n",
       "  .colab-df-quickchart:hover {\n",
       "    background-color: var(--hover-bg-color);\n",
       "    box-shadow: 0 1px 2px rgba(60, 64, 67, 0.3), 0 1px 3px 1px rgba(60, 64, 67, 0.15);\n",
       "    fill: var(--button-hover-fill-color);\n",
       "  }\n",
       "\n",
       "  .colab-df-quickchart-complete:disabled,\n",
       "  .colab-df-quickchart-complete:disabled:hover {\n",
       "    background-color: var(--disabled-bg-color);\n",
       "    fill: var(--disabled-fill-color);\n",
       "    box-shadow: none;\n",
       "  }\n",
       "\n",
       "  .colab-df-spinner {\n",
       "    border: 2px solid var(--fill-color);\n",
       "    border-color: transparent;\n",
       "    border-bottom-color: var(--fill-color);\n",
       "    animation:\n",
       "      spin 1s steps(1) infinite;\n",
       "  }\n",
       "\n",
       "  @keyframes spin {\n",
       "    0% {\n",
       "      border-color: transparent;\n",
       "      border-bottom-color: var(--fill-color);\n",
       "      border-left-color: var(--fill-color);\n",
       "    }\n",
       "    20% {\n",
       "      border-color: transparent;\n",
       "      border-left-color: var(--fill-color);\n",
       "      border-top-color: var(--fill-color);\n",
       "    }\n",
       "    30% {\n",
       "      border-color: transparent;\n",
       "      border-left-color: var(--fill-color);\n",
       "      border-top-color: var(--fill-color);\n",
       "      border-right-color: var(--fill-color);\n",
       "    }\n",
       "    40% {\n",
       "      border-color: transparent;\n",
       "      border-right-color: var(--fill-color);\n",
       "      border-top-color: var(--fill-color);\n",
       "    }\n",
       "    60% {\n",
       "      border-color: transparent;\n",
       "      border-right-color: var(--fill-color);\n",
       "    }\n",
       "    80% {\n",
       "      border-color: transparent;\n",
       "      border-right-color: var(--fill-color);\n",
       "      border-bottom-color: var(--fill-color);\n",
       "    }\n",
       "    90% {\n",
       "      border-color: transparent;\n",
       "      border-bottom-color: var(--fill-color);\n",
       "    }\n",
       "  }\n",
       "</style>\n",
       "\n",
       "  <script>\n",
       "    async function quickchart(key) {\n",
       "      const quickchartButtonEl =\n",
       "        document.querySelector('#' + key + ' button');\n",
       "      quickchartButtonEl.disabled = true;  // To prevent multiple clicks.\n",
       "      quickchartButtonEl.classList.add('colab-df-spinner');\n",
       "      try {\n",
       "        const charts = await google.colab.kernel.invokeFunction(\n",
       "            'suggestCharts', [key], {});\n",
       "      } catch (error) {\n",
       "        console.error('Error during call to suggestCharts:', error);\n",
       "      }\n",
       "      quickchartButtonEl.classList.remove('colab-df-spinner');\n",
       "      quickchartButtonEl.classList.add('colab-df-quickchart-complete');\n",
       "    }\n",
       "    (() => {\n",
       "      let quickchartButtonEl =\n",
       "        document.querySelector('#df-7fe3a7c2-5af1-4b68-a4d5-1218703298ef button');\n",
       "      quickchartButtonEl.style.display =\n",
       "        google.colab.kernel.accessAllowed ? 'block' : 'none';\n",
       "    })();\n",
       "  </script>\n",
       "</div>\n",
       "    </div>\n",
       "  </div>\n"
      ],
      "text/plain": [
       "     cont_africa  rugged  rgdppc_2000\n",
       "0              0   0.462          NaN\n",
       "1              0   2.518          NaN\n",
       "2              1   0.858     1794.729\n",
       "3              0   0.013          NaN\n",
       "4              0   3.427     3703.113\n",
       "..           ...     ...          ...\n",
       "229            0   1.677     4860.269\n",
       "230            0   2.323      787.749\n",
       "231            1   1.761     9419.122\n",
       "232            1   0.533      774.010\n",
       "233            1   1.194     2499.215\n",
       "\n",
       "[234 rows x 3 columns]"
      ]
     },
     "execution_count": 4,
     "metadata": {},
     "output_type": "execute_result"
    }
   ],
   "source": [
    "data = pd.read_csv(DATA_URL, encoding=\"ISO-8859-1\")\n",
    "df = data[[\"cont_africa\", \"rugged\", \"rgdppc_2000\"]]\n",
    "df"
   ]
  },
  {
   "cell_type": "code",
   "execution_count": null,
   "metadata": {
    "colab": {
     "base_uri": "https://localhost:8080/"
    },
    "id": "fSUoPJ4Pg0zL",
    "outputId": "5b7905dc-7d35-48d1-a009-93d4eb070014"
   },
   "outputs": [
    {
     "name": "stderr",
     "output_type": "stream",
     "text": [
      "<ipython-input-5-9934ef8c3e96>:2: SettingWithCopyWarning: \n",
      "A value is trying to be set on a copy of a slice from a DataFrame.\n",
      "Try using .loc[row_indexer,col_indexer] = value instead\n",
      "\n",
      "See the caveats in the documentation: https://pandas.pydata.org/pandas-docs/stable/user_guide/indexing.html#returning-a-view-versus-a-copy\n",
      "  df[\"rgdppc_2000\"] = np.log(df[\"rgdppc_2000\"])\n"
     ]
    }
   ],
   "source": [
    "df = df[np.isfinite(df.rgdppc_2000)]\n",
    "df[\"rgdppc_2000\"] = np.log(df[\"rgdppc_2000\"])"
   ]
  },
  {
   "cell_type": "code",
   "execution_count": null,
   "metadata": {
    "id": "XAUrNMg8ha53"
   },
   "outputs": [],
   "source": [
    "train = torch.tensor(df.values, dtype=torch.float)\n",
    "is_cont_africa, ruggedness, log_gdp = train[:, 0], train[:, 1], train[:, 2]"
   ]
  },
  {
   "cell_type": "code",
   "execution_count": null,
   "metadata": {
    "colab": {
     "base_uri": "https://localhost:8080/",
     "height": 616
    },
    "id": "Qnuvrk0Nh_o4",
    "outputId": "3bae37fc-655d-4d88-9ab4-88f0a671bec6"
   },
   "outputs": [
    {
     "data": {
      "text/plain": [
       "[Text(0.5, 0, 'Terrain Ruggedness Index'),\n",
       " Text(0, 0.5, 'log GDP (2000)'),\n",
       " Text(0.5, 1.0, 'African Nations')]"
      ]
     },
     "execution_count": 7,
     "metadata": {},
     "output_type": "execute_result"
    },
    {
     "data": {
      "image/png": "[encoded data removed]",
      "text/plain": [
       "<Figure size 1200x600 with 2 Axes>"
      ]
     },
     "metadata": {},
     "output_type": "display_data"
    }
   ],
   "source": [
    "fig, ax = plt.subplots(nrows=1, ncols=2, figsize=(12, 6), sharey=True)\n",
    "\n",
    "african_nations = df[df[\"cont_africa\"]==1]\n",
    "non_african_nations = df[df[\"cont_africa\"]==0]\n",
    "\n",
    "sns.scatterplot(x=non_african_nations[\"rugged\"], y=non_african_nations[\"rgdppc_2000\"], ax=ax[0])\n",
    "ax[0].set(xlabel=\"Terrain Ruggedness Index\", ylabel=\"log GDP (2000)\", title=\"Non African Nations\")\n",
    "\n",
    "sns.scatterplot(x=african_nations[\"rugged\"], y=african_nations[\"rgdppc_2000\"], ax=ax[1])\n",
    "ax[1].set(xlabel=\"Terrain Ruggedness Index\", ylabel=\"log GDP (2000)\", title=\"African Nations\")"
   ]
  },
  {
   "cell_type": "markdown",
   "metadata": {
    "id": "Jk1eKpf3ldZr"
   },
   "source": [
    "# maximum likelihood linear regression"
   ]
  },
  {
   "cell_type": "code",
   "execution_count": null,
   "metadata": {
    "id": "lMJ1lMA6iCIJ"
   },
   "outputs": [],
   "source": [
    "import pyro.distributions as dist\n",
    "import pyro.distributions.constraints as constraints\n",
    "\n",
    "def simple_model(is_cont_africa, ruggedness, log_gdp=None):\n",
    "  a = pyro.param(\"a\", lambda: torch.randn(()))\n",
    "  b_a = pyro.param(\"b_a\", lambda: torch.randn(()))\n",
    "  b_r = pyro.param(\"b_r\", lambda: torch.randn(()))\n",
    "  b_ar = pyro.param(\"b_ar\", lambda: torch.randn(()))\n",
    "\n",
    "  sigma = pyro.param(\"sigma\", lambda: torch.ones(()), constraint=constraints.positive)\n",
    "  mean = a + b_a * is_cont_africa + b_r * ruggedness + b_ar * is_cont_africa * ruggedness\n",
    "\n",
    "  with pyro.plate(\"data\", len(ruggedness)):\n",
    "    return pyro.sample(\"obs\", dist.Normal(mean, sigma), obs=log_gdp)"
   ]
  },
  {
   "cell_type": "code",
   "execution_count": null,
   "metadata": {
    "colab": {
     "base_uri": "https://localhost:8080/",
     "height": 153
    },
    "id": "ePseXOmHoAn9",
    "outputId": "3a5e8825-9b99-49ed-e9ba-662dfe62e7e6"
   },
   "outputs": [
    {
     "data": {
      "image/svg+xml": [
       "<?xml version=\"1.0\" encoding=\"UTF-8\" standalone=\"no\"?>\n",
       "<!DOCTYPE svg PUBLIC \"-//W3C//DTD SVG 1.1//EN\"\n",
       " \"http://www.w3.org/Graphics/SVG/1.1/DTD/svg11.dtd\">\n",
       "<!-- Generated by graphviz version 2.43.0 (0)\n",
       " -->\n",
       "<!-- Title: %3 Pages: 1 -->\n",
       "<svg width=\"188pt\" height=\"99pt\"\n",
       " viewBox=\"0.00 0.00 188.00 99.00\" xmlns=\"http://www.w3.org/2000/svg\" xmlns:xlink=\"http://www.w3.org/1999/xlink\">\n",
       "<g id=\"graph0\" class=\"graph\" transform=\"scale(1 1) rotate(0) translate(4 95)\">\n",
       "<title>%3</title>\n",
       "<polygon fill=\"white\" stroke=\"transparent\" points=\"-4,4 -4,-95 184,-95 184,4 -4,4\"/>\n",
       "<g id=\"clust1\" class=\"cluster\">\n",
       "<title>cluster_data</title>\n",
       "<polygon fill=\"none\" stroke=\"black\" points=\"8,-8 8,-83 78,-83 78,-8 8,-8\"/>\n",
       "<text text-anchor=\"middle\" x=\"58.5\" y=\"-15.8\" font-family=\"Times,serif\" font-size=\"14.00\">data</text>\n",
       "</g>\n",
       "<!-- obs -->\n",
       "<g id=\"node1\" class=\"node\">\n",
       "<title>obs</title>\n",
       "<ellipse fill=\"gray\" stroke=\"black\" cx=\"43\" cy=\"-57\" rx=\"27\" ry=\"18\"/>\n",
       "<text text-anchor=\"middle\" x=\"43\" y=\"-53.3\" font-family=\"Times,serif\" font-size=\"14.00\">obs</text>\n",
       "</g>\n",
       "<!-- distribution_description_node -->\n",
       "<g id=\"node2\" class=\"node\">\n",
       "<title>distribution_description_node</title>\n",
       "<text text-anchor=\"start\" x=\"96\" y=\"-53.3\" font-family=\"Times,serif\" font-size=\"14.00\">obs ~ Normal</text>\n",
       "</g>\n",
       "</g>\n",
       "</svg>\n"
      ],
      "text/plain": [
       "<graphviz.graphs.Digraph at 0x78ca43ffdcf0>"
      ]
     },
     "execution_count": 9,
     "metadata": {},
     "output_type": "execute_result"
    }
   ],
   "source": [
    "pyro.render_model(simple_model, model_args=(is_cont_africa, ruggedness, log_gdp), render_distributions=True)"
   ]
  },
  {
   "cell_type": "code",
   "execution_count": null,
   "metadata": {
    "colab": {
     "base_uri": "https://localhost:8080/",
     "height": 311
    },
    "id": "dBu_zQbAoN-U",
    "outputId": "f4d4b6ce-028b-4f18-9036-d6dcb7a02955"
   },
   "outputs": [
    {
     "data": {
      "image/svg+xml": [
       "<?xml version=\"1.0\" encoding=\"UTF-8\" standalone=\"no\"?>\n",
       "<!DOCTYPE svg PUBLIC \"-//W3C//DTD SVG 1.1//EN\"\n",
       " \"http://www.w3.org/Graphics/SVG/1.1/DTD/svg11.dtd\">\n",
       "<!-- Generated by graphviz version 2.43.0 (0)\n",
       " -->\n",
       "<!-- Title: %3 Pages: 1 -->\n",
       "<svg width=\"440pt\" height=\"217pt\"\n",
       " viewBox=\"0.00 0.00 439.50 217.00\" xmlns=\"http://www.w3.org/2000/svg\" xmlns:xlink=\"http://www.w3.org/1999/xlink\">\n",
       "<g id=\"graph0\" class=\"graph\" transform=\"scale(1 1) rotate(0) translate(4 213)\">\n",
       "<title>%3</title>\n",
       "<polygon fill=\"white\" stroke=\"transparent\" points=\"-4,4 -4,-213 435.5,-213 435.5,4 -4,4\"/>\n",
       "<g id=\"clust1\" class=\"cluster\">\n",
       "<title>cluster_data</title>\n",
       "<polygon fill=\"none\" stroke=\"black\" points=\"52,-8 52,-83 122,-83 122,-8 52,-8\"/>\n",
       "<text text-anchor=\"middle\" x=\"102.5\" y=\"-15.8\" font-family=\"Times,serif\" font-size=\"14.00\">data</text>\n",
       "</g>\n",
       "<!-- sigma -->\n",
       "<g id=\"node1\" class=\"node\">\n",
       "<title>sigma</title>\n",
       "<polygon fill=\"white\" stroke=\"transparent\" points=\"34,-167.5 0,-167.5 0,-152.5 34,-152.5 34,-167.5\"/>\n",
       "<text text-anchor=\"middle\" x=\"17\" y=\"-156.3\" font-family=\"Times,serif\" font-size=\"14.00\">sigma</text>\n",
       "</g>\n",
       "<!-- obs -->\n",
       "<g id=\"node6\" class=\"node\">\n",
       "<title>obs</title>\n",
       "<ellipse fill=\"gray\" stroke=\"black\" cx=\"87\" cy=\"-57\" rx=\"27\" ry=\"18\"/>\n",
       "<text text-anchor=\"middle\" x=\"87\" y=\"-53.3\" font-family=\"Times,serif\" font-size=\"14.00\">obs</text>\n",
       "</g>\n",
       "<!-- sigma&#45;&gt;obs -->\n",
       "<g id=\"edge5\" class=\"edge\">\n",
       "<title>sigma&#45;&gt;obs</title>\n",
       "<path fill=\"none\" stroke=\"black\" d=\"M20.14,-152.24C24.67,-142.72 33.55,-124.97 43,-111 50.15,-100.43 58.99,-89.46 66.86,-80.26\"/>\n",
       "<polygon fill=\"black\" stroke=\"black\" points=\"69.53,-82.52 73.47,-72.69 64.25,-77.92 69.53,-82.52\"/>\n",
       "</g>\n",
       "<!-- a -->\n",
       "<g id=\"node2\" class=\"node\">\n",
       "<title>a</title>\n",
       "<polygon fill=\"white\" stroke=\"transparent\" points=\"59.5,-167.5 52.5,-167.5 52.5,-152.5 59.5,-152.5 59.5,-167.5\"/>\n",
       "<text text-anchor=\"middle\" x=\"56\" y=\"-156.3\" font-family=\"Times,serif\" font-size=\"14.00\">a</text>\n",
       "</g>\n",
       "<!-- a&#45;&gt;obs -->\n",
       "<g id=\"edge1\" class=\"edge\">\n",
       "<title>a&#45;&gt;obs</title>\n",
       "<path fill=\"none\" stroke=\"black\" d=\"M57.43,-152.42C59.49,-143.12 63.56,-125.63 68,-111 70.69,-102.13 74,-92.55 77.09,-84.01\"/>\n",
       "<polygon fill=\"black\" stroke=\"black\" points=\"80.4,-85.16 80.58,-74.57 73.83,-82.74 80.4,-85.16\"/>\n",
       "</g>\n",
       "<!-- b_r -->\n",
       "<g id=\"node3\" class=\"node\">\n",
       "<title>b_r</title>\n",
       "<polygon fill=\"white\" stroke=\"transparent\" points=\"96.5,-167.5 77.5,-167.5 77.5,-152.5 96.5,-152.5 96.5,-167.5\"/>\n",
       "<text text-anchor=\"middle\" x=\"87\" y=\"-156.3\" font-family=\"Times,serif\" font-size=\"14.00\">b_r</text>\n",
       "</g>\n",
       "<!-- b_r&#45;&gt;obs -->\n",
       "<g id=\"edge3\" class=\"edge\">\n",
       "<title>b_r&#45;&gt;obs</title>\n",
       "<path fill=\"none\" stroke=\"black\" d=\"M87,-152.37C87,-139.04 87,-108.29 87,-85.49\"/>\n",
       "<polygon fill=\"black\" stroke=\"black\" points=\"90.5,-85.36 87,-75.36 83.5,-85.36 90.5,-85.36\"/>\n",
       "</g>\n",
       "<!-- b_a -->\n",
       "<g id=\"node4\" class=\"node\">\n",
       "<title>b_a</title>\n",
       "<polygon fill=\"white\" stroke=\"transparent\" points=\"135,-167.5 115,-167.5 115,-152.5 135,-152.5 135,-167.5\"/>\n",
       "<text text-anchor=\"middle\" x=\"125\" y=\"-156.3\" font-family=\"Times,serif\" font-size=\"14.00\">b_a</text>\n",
       "</g>\n",
       "<!-- b_a&#45;&gt;obs -->\n",
       "<g id=\"edge2\" class=\"edge\">\n",
       "<title>b_a&#45;&gt;obs</title>\n",
       "<path fill=\"none\" stroke=\"black\" d=\"M122.51,-152.37C117.39,-138.76 105.44,-107.02 96.82,-84.1\"/>\n",
       "<polygon fill=\"black\" stroke=\"black\" points=\"100.04,-82.72 93.24,-74.59 93.49,-85.19 100.04,-82.72\"/>\n",
       "</g>\n",
       "<!-- b_ar -->\n",
       "<g id=\"node5\" class=\"node\">\n",
       "<title>b_ar</title>\n",
       "<polygon fill=\"white\" stroke=\"transparent\" points=\"178.5,-167.5 153.5,-167.5 153.5,-152.5 178.5,-152.5 178.5,-167.5\"/>\n",
       "<text text-anchor=\"middle\" x=\"166\" y=\"-156.3\" font-family=\"Times,serif\" font-size=\"14.00\">b_ar</text>\n",
       "</g>\n",
       "<!-- b_ar&#45;&gt;obs -->\n",
       "<g id=\"edge4\" class=\"edge\">\n",
       "<title>b_ar&#45;&gt;obs</title>\n",
       "<path fill=\"none\" stroke=\"black\" d=\"M163.89,-152.36C160.61,-142.67 153.66,-124.37 144,-111 135.04,-98.61 122.87,-86.81 112.07,-77.51\"/>\n",
       "<polygon fill=\"black\" stroke=\"black\" points=\"114.08,-74.63 104.16,-70.92 109.6,-80.01 114.08,-74.63\"/>\n",
       "</g>\n",
       "<!-- distribution_description_node -->\n",
       "<g id=\"node7\" class=\"node\">\n",
       "<title>distribution_description_node</title>\n",
       "<text text-anchor=\"start\" x=\"204.5\" y=\"-193.8\" font-family=\"Times,serif\" font-size=\"14.00\">obs ~ Normal</text>\n",
       "<text text-anchor=\"start\" x=\"204.5\" y=\"-178.8\" font-family=\"Times,serif\" font-size=\"14.00\">a : Real()</text>\n",
       "<text text-anchor=\"start\" x=\"204.5\" y=\"-163.8\" font-family=\"Times,serif\" font-size=\"14.00\">b_a : Real()</text>\n",
       "<text text-anchor=\"start\" x=\"204.5\" y=\"-148.8\" font-family=\"Times,serif\" font-size=\"14.00\">b_r : Real()</text>\n",
       "<text text-anchor=\"start\" x=\"204.5\" y=\"-133.8\" font-family=\"Times,serif\" font-size=\"14.00\">b_ar : Real()</text>\n",
       "<text text-anchor=\"start\" x=\"204.5\" y=\"-118.8\" font-family=\"Times,serif\" font-size=\"14.00\">sigma : GreaterThan(lower_bound=0.0)</text>\n",
       "</g>\n",
       "</g>\n",
       "</svg>\n"
      ],
      "text/plain": [
       "<graphviz.graphs.Digraph at 0x78ca44fb25f0>"
      ]
     },
     "execution_count": 10,
     "metadata": {},
     "output_type": "execute_result"
    }
   ],
   "source": [
    "pyro.render_model(simple_model, model_args=(is_cont_africa, ruggedness, log_gdp), render_distributions=True, render_params=True)"
   ]
  },
  {
   "cell_type": "code",
   "execution_count": null,
   "metadata": {
    "id": "SwZQtHfvoaBt"
   },
   "outputs": [],
   "source": [
    "import pyro.distributions as dist\n",
    "import pyro.distributions.constraints as constraints\n",
    "\n",
    "def model(is_cont_africa, ruggedness, log_gdp=None):\n",
    "  a = pyro.param(\"a\", torch.tensor(0.0) )\n",
    "  b_a = pyro.param(\"b_a\", torch.tensor(0.0) )\n",
    "  b_r = pyro.param(\"b_r\", torch.tensor(0.0) )\n",
    "  b_ar = pyro.param(\"b_ar\", torch.tensor(0.0) )\n",
    "\n",
    "  sigma = pyro.param(\"sigma\", torch.tensor(1.0))\n",
    "  mean = a + b_a * is_cont_africa + b_r * ruggedness + b_ar * is_cont_africa * ruggedness\n",
    "\n",
    "  with pyro.plate(\"data\", len(ruggedness)):\n",
    "    return pyro.sample(\"obs\", dist.Normal(mean, sigma), obs=log_gdp)"
   ]
  },
  {
   "cell_type": "code",
   "execution_count": null,
   "metadata": {
    "colab": {
     "base_uri": "https://localhost:8080/",
     "height": 311
    },
    "id": "oE6VT_vqt3Aj",
    "outputId": "b08284a4-82ec-4114-f13a-8b537835dba6"
   },
   "outputs": [
    {
     "data": {
      "image/svg+xml": [
       "<?xml version=\"1.0\" encoding=\"UTF-8\" standalone=\"no\"?>\n",
       "<!DOCTYPE svg PUBLIC \"-//W3C//DTD SVG 1.1//EN\"\n",
       " \"http://www.w3.org/Graphics/SVG/1.1/DTD/svg11.dtd\">\n",
       "<!-- Generated by graphviz version 2.43.0 (0)\n",
       " -->\n",
       "<!-- Title: %3 Pages: 1 -->\n",
       "<svg width=\"300pt\" height=\"217pt\"\n",
       " viewBox=\"0.00 0.00 299.50 217.00\" xmlns=\"http://www.w3.org/2000/svg\" xmlns:xlink=\"http://www.w3.org/1999/xlink\">\n",
       "<g id=\"graph0\" class=\"graph\" transform=\"scale(1 1) rotate(0) translate(4 213)\">\n",
       "<title>%3</title>\n",
       "<polygon fill=\"white\" stroke=\"transparent\" points=\"-4,4 -4,-213 295.5,-213 295.5,4 -4,4\"/>\n",
       "<g id=\"clust1\" class=\"cluster\">\n",
       "<title>cluster_data</title>\n",
       "<polygon fill=\"none\" stroke=\"black\" points=\"52,-8 52,-83 122,-83 122,-8 52,-8\"/>\n",
       "<text text-anchor=\"middle\" x=\"102.5\" y=\"-15.8\" font-family=\"Times,serif\" font-size=\"14.00\">data</text>\n",
       "</g>\n",
       "<!-- sigma -->\n",
       "<g id=\"node1\" class=\"node\">\n",
       "<title>sigma</title>\n",
       "<polygon fill=\"white\" stroke=\"transparent\" points=\"34,-167.5 0,-167.5 0,-152.5 34,-152.5 34,-167.5\"/>\n",
       "<text text-anchor=\"middle\" x=\"17\" y=\"-156.3\" font-family=\"Times,serif\" font-size=\"14.00\">sigma</text>\n",
       "</g>\n",
       "<!-- obs -->\n",
       "<g id=\"node6\" class=\"node\">\n",
       "<title>obs</title>\n",
       "<ellipse fill=\"gray\" stroke=\"black\" cx=\"87\" cy=\"-57\" rx=\"27\" ry=\"18\"/>\n",
       "<text text-anchor=\"middle\" x=\"87\" y=\"-53.3\" font-family=\"Times,serif\" font-size=\"14.00\">obs</text>\n",
       "</g>\n",
       "<!-- sigma&#45;&gt;obs -->\n",
       "<g id=\"edge5\" class=\"edge\">\n",
       "<title>sigma&#45;&gt;obs</title>\n",
       "<path fill=\"none\" stroke=\"black\" d=\"M20.14,-152.24C24.67,-142.72 33.55,-124.97 43,-111 50.15,-100.43 58.99,-89.46 66.86,-80.26\"/>\n",
       "<polygon fill=\"black\" stroke=\"black\" points=\"69.53,-82.52 73.47,-72.69 64.25,-77.92 69.53,-82.52\"/>\n",
       "</g>\n",
       "<!-- a -->\n",
       "<g id=\"node2\" class=\"node\">\n",
       "<title>a</title>\n",
       "<polygon fill=\"white\" stroke=\"transparent\" points=\"59.5,-167.5 52.5,-167.5 52.5,-152.5 59.5,-152.5 59.5,-167.5\"/>\n",
       "<text text-anchor=\"middle\" x=\"56\" y=\"-156.3\" font-family=\"Times,serif\" font-size=\"14.00\">a</text>\n",
       "</g>\n",
       "<!-- a&#45;&gt;obs -->\n",
       "<g id=\"edge1\" class=\"edge\">\n",
       "<title>a&#45;&gt;obs</title>\n",
       "<path fill=\"none\" stroke=\"black\" d=\"M57.43,-152.42C59.49,-143.12 63.56,-125.63 68,-111 70.69,-102.13 74,-92.55 77.09,-84.01\"/>\n",
       "<polygon fill=\"black\" stroke=\"black\" points=\"80.4,-85.16 80.58,-74.57 73.83,-82.74 80.4,-85.16\"/>\n",
       "</g>\n",
       "<!-- b_r -->\n",
       "<g id=\"node3\" class=\"node\">\n",
       "<title>b_r</title>\n",
       "<polygon fill=\"white\" stroke=\"transparent\" points=\"96.5,-167.5 77.5,-167.5 77.5,-152.5 96.5,-152.5 96.5,-167.5\"/>\n",
       "<text text-anchor=\"middle\" x=\"87\" y=\"-156.3\" font-family=\"Times,serif\" font-size=\"14.00\">b_r</text>\n",
       "</g>\n",
       "<!-- b_r&#45;&gt;obs -->\n",
       "<g id=\"edge3\" class=\"edge\">\n",
       "<title>b_r&#45;&gt;obs</title>\n",
       "<path fill=\"none\" stroke=\"black\" d=\"M87,-152.37C87,-139.04 87,-108.29 87,-85.49\"/>\n",
       "<polygon fill=\"black\" stroke=\"black\" points=\"90.5,-85.36 87,-75.36 83.5,-85.36 90.5,-85.36\"/>\n",
       "</g>\n",
       "<!-- b_a -->\n",
       "<g id=\"node4\" class=\"node\">\n",
       "<title>b_a</title>\n",
       "<polygon fill=\"white\" stroke=\"transparent\" points=\"135,-167.5 115,-167.5 115,-152.5 135,-152.5 135,-167.5\"/>\n",
       "<text text-anchor=\"middle\" x=\"125\" y=\"-156.3\" font-family=\"Times,serif\" font-size=\"14.00\">b_a</text>\n",
       "</g>\n",
       "<!-- b_a&#45;&gt;obs -->\n",
       "<g id=\"edge2\" class=\"edge\">\n",
       "<title>b_a&#45;&gt;obs</title>\n",
       "<path fill=\"none\" stroke=\"black\" d=\"M122.51,-152.37C117.39,-138.76 105.44,-107.02 96.82,-84.1\"/>\n",
       "<polygon fill=\"black\" stroke=\"black\" points=\"100.04,-82.72 93.24,-74.59 93.49,-85.19 100.04,-82.72\"/>\n",
       "</g>\n",
       "<!-- b_ar -->\n",
       "<g id=\"node5\" class=\"node\">\n",
       "<title>b_ar</title>\n",
       "<polygon fill=\"white\" stroke=\"transparent\" points=\"178.5,-167.5 153.5,-167.5 153.5,-152.5 178.5,-152.5 178.5,-167.5\"/>\n",
       "<text text-anchor=\"middle\" x=\"166\" y=\"-156.3\" font-family=\"Times,serif\" font-size=\"14.00\">b_ar</text>\n",
       "</g>\n",
       "<!-- b_ar&#45;&gt;obs -->\n",
       "<g id=\"edge4\" class=\"edge\">\n",
       "<title>b_ar&#45;&gt;obs</title>\n",
       "<path fill=\"none\" stroke=\"black\" d=\"M163.89,-152.36C160.61,-142.67 153.66,-124.37 144,-111 135.04,-98.61 122.87,-86.81 112.07,-77.51\"/>\n",
       "<polygon fill=\"black\" stroke=\"black\" points=\"114.08,-74.63 104.16,-70.92 109.6,-80.01 114.08,-74.63\"/>\n",
       "</g>\n",
       "<!-- distribution_description_node -->\n",
       "<g id=\"node7\" class=\"node\">\n",
       "<title>distribution_description_node</title>\n",
       "<text text-anchor=\"start\" x=\"204.5\" y=\"-193.8\" font-family=\"Times,serif\" font-size=\"14.00\">obs ~ Normal</text>\n",
       "<text text-anchor=\"start\" x=\"204.5\" y=\"-178.8\" font-family=\"Times,serif\" font-size=\"14.00\">a : Real()</text>\n",
       "<text text-anchor=\"start\" x=\"204.5\" y=\"-163.8\" font-family=\"Times,serif\" font-size=\"14.00\">b_a : Real()</text>\n",
       "<text text-anchor=\"start\" x=\"204.5\" y=\"-148.8\" font-family=\"Times,serif\" font-size=\"14.00\">b_r : Real()</text>\n",
       "<text text-anchor=\"start\" x=\"204.5\" y=\"-133.8\" font-family=\"Times,serif\" font-size=\"14.00\">b_ar : Real()</text>\n",
       "<text text-anchor=\"start\" x=\"204.5\" y=\"-118.8\" font-family=\"Times,serif\" font-size=\"14.00\">sigma : Real()</text>\n",
       "</g>\n",
       "</g>\n",
       "</svg>\n"
      ],
      "text/plain": [
       "<graphviz.graphs.Digraph at 0x78ca44ef4d60>"
      ]
     },
     "execution_count": 20,
     "metadata": {},
     "output_type": "execute_result"
    }
   ],
   "source": [
    "pyro.render_model(model, model_args=(is_cont_africa, ruggedness, log_gdp), render_distributions=True, render_params=True)"
   ]
  },
  {
   "cell_type": "code",
   "execution_count": null,
   "metadata": {
    "colab": {
     "base_uri": "https://localhost:8080/"
    },
    "id": "7v84IV0lt5GC",
    "outputId": "1ced70cd-b1c6-4410-d8e8-574b0282d937"
   },
   "outputs": [
    {
     "name": "stdout",
     "output_type": "stream",
     "text": [
      "CPU times: user 410 µs, sys: 0 ns, total: 410 µs\n",
      "Wall time: 416 µs\n"
     ]
    }
   ],
   "source": [
    "%%time\n",
    "\n",
    "pyro.clear_param_store()\n",
    "\n",
    "# these should be reset each training loop\n",
    "auto_guide = pyro.infer.autoguide.AutoNormal(model)\n",
    "\n",
    "adam = pyro.optim.Adam({\"lr\": 0.02})  # Consider decreasing learning rate.\n",
    "\n",
    "elbo = pyro.infer.Trace_ELBO()\n",
    "\n",
    "svi = pyro.infer.SVI(model, auto_guide, adam, elbo)"
   ]
  },
  {
   "cell_type": "code",
   "execution_count": null,
   "metadata": {
    "colab": {
     "base_uri": "https://localhost:8080/"
    },
    "id": "LCPBgV9SIp1h",
    "outputId": "99b1e380-9d0f-4f0e-b26d-4f282b145f19"
   },
   "outputs": [
    {
     "name": "stdout",
     "output_type": "stream",
     "text": [
      "Elbo loss: 6437.20947265625\n",
      "Elbo loss: 964.9295043945312\n",
      "Elbo loss: 649.7582397460938\n",
      "Elbo loss: 538.8941040039062\n",
      "Elbo loss: 483.6414794921875\n",
      "Elbo loss: 451.5754089355469\n",
      "Elbo loss: 430.9872741699219\n",
      "Elbo loss: 416.5165100097656\n",
      "Elbo loss: 405.4181823730469\n",
      "Elbo loss: 396.1873779296875\n"
     ]
    }
   ],
   "source": [
    "losses = []\n",
    "\n",
    "for step in range(1000):\n",
    "  loss = svi.step(is_cont_africa, ruggedness, log_gdp)\n",
    "  losses.append(loss)\n",
    "  if step%100 == 0:\n",
    "    print(\"Elbo loss: {}\".format(loss))"
   ]
  },
  {
   "cell_type": "code",
   "execution_count": null,
   "metadata": {
    "colab": {
     "base_uri": "https://localhost:8080/",
     "height": 234
    },
    "id": "r6TGY1ueK4Ef",
    "outputId": "f4a8a465-2ebf-4a24-f778-01fbe9ad24b3"
   },
   "outputs": [
    {
     "data": {
      "image/png": "[encoded data removed]",
      "text/plain": [
       "<Figure size 500x200 with 1 Axes>"
      ]
     },
     "metadata": {},
     "output_type": "display_data"
    }
   ],
   "source": [
    "plt.figure(figsize=(5, 2))\n",
    "plt.plot(losses)\n",
    "plt.xlabel(\"SVI step\")\n",
    "plt.ylabel(\"ELBO loss\");"
   ]
  },
  {
   "cell_type": "code",
   "execution_count": null,
   "metadata": {
    "colab": {
     "base_uri": "https://localhost:8080/"
    },
    "id": "2fBnJY0GMI5j",
    "outputId": "0ff06e06-7ce0-4325-9f41-fd34df2d3dd3"
   },
   "outputs": [
    {
     "name": "stdout",
     "output_type": "stream",
     "text": [
      "a 5.116713\n",
      "b_a 2.3457885\n",
      "b_r 1.7732681\n",
      "b_ar -1.6462946\n",
      "sigma 2.6273568\n"
     ]
    }
   ],
   "source": [
    "for name, value in pyro.get_param_store().items():\n",
    "  print(name, pyro.param(name).data.cpu().numpy())"
   ]
  },
  {
   "cell_type": "code",
   "execution_count": null,
   "metadata": {
    "id": "gLJYpCvmNYJU"
   },
   "outputs": [],
   "source": []
  }
 ],
 "metadata": {
  "colab": {
   "provenance": []
  },
  "kernelspec": {
   "display_name": "Python 3",
   "name": "python3"
  },
  "language_info": {
   "name": "python"
  }
 },
 "nbformat": 4,
 "nbformat_minor": 0
}
