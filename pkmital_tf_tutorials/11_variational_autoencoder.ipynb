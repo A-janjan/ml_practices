{
 "cells": [
  {
   "cell_type": "code",
   "execution_count": 1,
   "id": "cbe1931c",
   "metadata": {},
   "outputs": [
    {
     "name": "stderr",
     "output_type": "stream",
     "text": [
      "2024-05-31 23:36:16.229352: I tensorflow/core/platform/cpu_feature_guard.cc:182] This TensorFlow binary is optimized to use available CPU instructions in performance-critical operations.\n",
      "To enable the following instructions: AVX2 FMA, in other operations, rebuild TensorFlow with the appropriate compiler flags.\n",
      "2024-05-31 23:36:16.828870: W tensorflow/compiler/tf2tensorrt/utils/py_utils.cc:38] TF-TRT Warning: Could not find TensorRT\n"
     ]
    }
   ],
   "source": [
    "import tensorflow as tf\n",
    "import numpy as np\n",
    "import matplotlib.pyplot as plt\n",
    "from tensorflow.keras import layers, Model\n",
    "from tensorflow.keras.datasets import mnist"
   ]
  },
  {
   "cell_type": "code",
   "execution_count": 22,
   "id": "4dabb85d",
   "metadata": {},
   "outputs": [],
   "source": [
    "def VAE(input_shape=(784,),\n",
    "        n_components_encoder=2048,\n",
    "        n_components_decoder=2048,\n",
    "        n_hidden=2,\n",
    "        debug=False):\n",
    "    \n",
    "    # Input placeholder\n",
    "    if debug:\n",
    "        input_shape = (50, 784)\n",
    "        x = tf.Variable(np.zeros(input_shape, dtype=np.float32))\n",
    "    else:\n",
    "        x = tf.keras.Input(shape=input_shape)\n",
    "    \n",
    "    activation = tf.nn.softplus\n",
    "\n",
    "    n_features = input_shape[0]\n",
    "    \n",
    "    # Encoder\n",
    "    h_enc1 = layers.Dense(n_components_encoder, activation=activation)(x)\n",
    "    h_enc2 = layers.Dense(n_components_encoder, activation=activation)(h_enc1)\n",
    "    h_enc3 = layers.Dense(n_components_encoder, activation=activation)(h_enc2)\n",
    "    \n",
    "    z_mu = layers.Dense(n_hidden)(h_enc3)\n",
    "    z_log_sigma = 0.5 * layers.Dense(n_hidden)(h_enc3)\n",
    "    \n",
    "    # Sample from noise distribution p(eps) ~ N(0, 1)\n",
    "    epsilon = tf.random.normal(tf.shape(x)[:-1] + (n_hidden,))\n",
    "    \n",
    "    # Sample from posterior\n",
    "    z = z_mu + tf.exp(z_log_sigma) * epsilon\n",
    "    \n",
    "    # Decoder\n",
    "    h_dec1 = layers.Dense(n_components_decoder, activation=activation)(z)\n",
    "    h_dec2 = layers.Dense(n_components_decoder, activation=activation)(h_dec1)\n",
    "    h_dec3 = layers.Dense(n_components_decoder, activation=activation)(h_dec2)\n",
    "    \n",
    "    y = layers.Dense(n_features, activation='tanh')(h_dec3)\n",
    "    \n",
    "    # Reconstruction loss\n",
    "    log_px_given_z = -tf.reduce_sum(\n",
    "        x * tf.math.log(y + 1e-10) +\n",
    "        (1 - x) * tf.math.log(1 - y + 1e-10), axis=1)\n",
    "    \n",
    "    # KL divergence\n",
    "    kl_div = -0.5 * tf.reduce_sum(\n",
    "        1.0 + 2.0 * z_log_sigma - tf.square(z_mu) - tf.exp(2.0 * z_log_sigma), axis=1)\n",
    "    \n",
    "    # Total loss\n",
    "    loss = tf.reduce_mean(log_px_given_z + kl_div)\n",
    "    \n",
    "    return {'cost': loss, 'x': x, 'z': z, 'y': y}"
   ]
  },
  {
   "cell_type": "code",
   "execution_count": 23,
   "id": "abb0ab24",
   "metadata": {},
   "outputs": [],
   "source": [
    "def preprocess_data(x, y):\n",
    "    x = x.reshape((-1, 784)).astype('float32') / 255.0\n",
    "    y = tf.keras.utils.to_categorical(y, 10)\n",
    "    return x, y"
   ]
  },
  {
   "cell_type": "code",
   "execution_count": 24,
   "id": "b15ff045",
   "metadata": {},
   "outputs": [],
   "source": [
    "def test_mnist():\n",
    "    # Load MNIST data\n",
    "    (x_train, y_train), (x_test, y_test) = mnist.load_data()\n",
    "    x_train, y_train = preprocess_data(x_train, y_train)\n",
    "    x_test, y_test = preprocess_data(x_test, y_test)\n",
    "\n",
    "    ae = VAE()\n",
    "    optimizer = tf.keras.optimizers.Adam()\n",
    "\n",
    "    # Training loop\n",
    "    batch_size = 100\n",
    "    n_epochs = 50\n",
    "    for epoch in range(n_epochs):\n",
    "        print('Epoch', epoch)\n",
    "        for batch_i in range(len(x_train) // batch_size):\n",
    "            batch_xs = x_train[batch_i * batch_size:(batch_i + 1) * batch_size]\n",
    "\n",
    "            with tf.GradientTape() as tape:\n",
    "                loss = ae['cost']\n",
    "            gradients = tape.gradient(loss, ae.trainable_variables)\n",
    "            optimizer.apply_gradients(zip(gradients, ae.trainable_variables))\n",
    "\n",
    "        print('Train Loss:', loss.numpy())\n",
    "\n",
    "    # Validation\n",
    "    valid_loss = tf.reduce_mean([ae['cost'](x) for x in x_test])\n",
    "    print('Validation Loss:', valid_loss.numpy())"
   ]
  },
  {
   "cell_type": "code",
   "execution_count": null,
   "id": "8a39a11d",
   "metadata": {},
   "outputs": [],
   "source": [
    "if __name__ == '__main__':\n",
    "    test_mnist()"
   ]
  }
 ],
 "metadata": {
  "kernelspec": {
   "display_name": "Python 3 (ipykernel)",
   "language": "python",
   "name": "python3"
  },
  "language_info": {
   "codemirror_mode": {
    "name": "ipython",
    "version": 3
   },
   "file_extension": ".py",
   "mimetype": "text/x-python",
   "name": "python",
   "nbconvert_exporter": "python",
   "pygments_lexer": "ipython3",
   "version": "3.11.3"
  }
 },
 "nbformat": 4,
 "nbformat_minor": 5
}
