{
 "cells": [
  {
   "cell_type": "code",
   "execution_count": 2,
   "id": "7b80e4df",
   "metadata": {},
   "outputs": [],
   "source": [
    "%matplotlib inline\n",
    "import tensorflow as tf\n",
    "from tensorflow.keras.layers import Conv2D, Dense, Flatten, Dropout, Input, Reshape\n",
    "from tensorflow.keras.models import Model\n",
    "from tensorflow.keras.optimizers import Adam\n",
    "import numpy as np\n",
    "import matplotlib.pyplot as plt"
   ]
  },
  {
   "cell_type": "code",
   "execution_count": 3,
   "id": "3d7c7771",
   "metadata": {},
   "outputs": [],
   "source": [
    "# Load the MNIST dataset\n",
    "mnist = tf.keras.datasets.mnist\n",
    "(x_train, y_train), (x_test, y_test) = mnist.load_data()\n",
    "x_train, x_test = x_train / 255.0, x_test / 255.0  # Normalize the data"
   ]
  },
  {
   "cell_type": "code",
   "execution_count": 4,
   "id": "96f53198",
   "metadata": {},
   "outputs": [],
   "source": [
    "# One-hot encode the labels\n",
    "y_train = tf.keras.utils.to_categorical(y_train, 10)\n",
    "y_test = tf.keras.utils.to_categorical(y_test, 10)"
   ]
  },
  {
   "cell_type": "code",
   "execution_count": 9,
   "id": "9686a860",
   "metadata": {},
   "outputs": [],
   "source": [
    "# Define the model\n",
    "input_shape = (28, 28, 1)\n",
    "inputs = Input(shape=input_shape)\n",
    "x = Reshape((28,28,1))(inputs)\n",
    "x = Conv2D(16, (5,5), strides=(2,2), padding='same', activation='relu')(x)\n",
    "x = Conv2D(16, (5,5), strides=(2,2), padding='same', activation='relu')(x)\n",
    "x = Flatten()(x)\n",
    "x = Dense(1024, activation='relu')(x)\n",
    "x = Dropout(0.5)(x)\n",
    "outputs = Dense(10, activation='softmax')(x)\n",
    "\n",
    "model = Model(inputs, outputs)"
   ]
  },
  {
   "cell_type": "code",
   "execution_count": 10,
   "id": "44bb452e",
   "metadata": {},
   "outputs": [],
   "source": [
    "# compile the model\n",
    "\n",
    "model.compile(optimizer=Adam(), loss='categorical_crossentropy', metrics=['accuracy'])"
   ]
  },
  {
   "cell_type": "code",
   "execution_count": 11,
   "id": "029d9eeb",
   "metadata": {},
   "outputs": [
    {
     "name": "stdout",
     "output_type": "stream",
     "text": [
      "Epoch 1/5\n",
      "540/540 [==============================] - 9s 16ms/step - loss: 0.2493 - accuracy: 0.9254 - val_loss: 0.0718 - val_accuracy: 0.9793\n",
      "Epoch 2/5\n",
      "540/540 [==============================] - 9s 16ms/step - loss: 0.0834 - accuracy: 0.9741 - val_loss: 0.0618 - val_accuracy: 0.9815\n",
      "Epoch 3/5\n",
      "540/540 [==============================] - 9s 17ms/step - loss: 0.0576 - accuracy: 0.9822 - val_loss: 0.0492 - val_accuracy: 0.9863\n",
      "Epoch 4/5\n",
      "540/540 [==============================] - 9s 16ms/step - loss: 0.0459 - accuracy: 0.9856 - val_loss: 0.0481 - val_accuracy: 0.9860\n",
      "Epoch 5/5\n",
      "540/540 [==============================] - 9s 16ms/step - loss: 0.0369 - accuracy: 0.9884 - val_loss: 0.0442 - val_accuracy: 0.9870\n"
     ]
    },
    {
     "data": {
      "text/plain": [
       "<keras.src.callbacks.History at 0x7f4967b3e590>"
      ]
     },
     "execution_count": 11,
     "metadata": {},
     "output_type": "execute_result"
    }
   ],
   "source": [
    "model.fit(x_train, y_train, epochs=5, batch_size=100, validation_split=0.1)"
   ]
  },
  {
   "cell_type": "code",
   "execution_count": 12,
   "id": "8a23f4ba",
   "metadata": {},
   "outputs": [
    {
     "name": "stdout",
     "output_type": "stream",
     "text": [
      "313/313 [==============================] - 1s 2ms/step - loss: 0.0316 - accuracy: 0.9897\n",
      "Test Accuracy: 0.9897\n"
     ]
    }
   ],
   "source": [
    "val_loss, val_accuracy = model.evaluate(x_test, y_test)\n",
    "print(f'Test Accuracy: {val_accuracy:.4f}')"
   ]
  },
  {
   "cell_type": "code",
   "execution_count": null,
   "id": "17030d32",
   "metadata": {},
   "outputs": [],
   "source": []
  },
  {
   "cell_type": "code",
   "execution_count": null,
   "id": "a4573cc8",
   "metadata": {},
   "outputs": [],
   "source": []
  }
 ],
 "metadata": {
  "kernelspec": {
   "display_name": "Python 3 (ipykernel)",
   "language": "python",
   "name": "python3"
  },
  "language_info": {
   "codemirror_mode": {
    "name": "ipython",
    "version": 3
   },
   "file_extension": ".py",
   "mimetype": "text/x-python",
   "name": "python",
   "nbconvert_exporter": "python",
   "pygments_lexer": "ipython3",
   "version": "3.11.3"
  }
 },
 "nbformat": 4,
 "nbformat_minor": 5
}
