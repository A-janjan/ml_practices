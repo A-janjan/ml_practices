{
 "cells": [
  {
   "cell_type": "code",
   "execution_count": 1,
   "metadata": {},
   "outputs": [],
   "source": [
    "from gensim.models import Word2Vec\n",
    "from gensim.utils import simple_preprocess\n",
    "\n",
    "corpus = [\n",
    "    \"I love machine learning and natural language processing\",\n",
    "    \"Deep learning models can achieve state of the art results\",\n",
    "    \"Word2Vec is a technique to represent words as vectors\",\n",
    "    \"Natural language understanding involves machine learning models\",\n",
    "    \"Neural networks are the foundation of deep learning\"\n",
    "]"
   ]
  },
  {
   "cell_type": "code",
   "execution_count": 2,
   "metadata": {},
   "outputs": [
    {
     "data": {
      "text/plain": [
       "[['love', 'machine', 'learning', 'and', 'natural', 'language', 'processing'],\n",
       " ['deep',\n",
       "  'learning',\n",
       "  'models',\n",
       "  'can',\n",
       "  'achieve',\n",
       "  'state',\n",
       "  'of',\n",
       "  'the',\n",
       "  'art',\n",
       "  'results'],\n",
       " ['word',\n",
       "  'vec',\n",
       "  'is',\n",
       "  'technique',\n",
       "  'to',\n",
       "  'represent',\n",
       "  'words',\n",
       "  'as',\n",
       "  'vectors'],\n",
       " ['natural',\n",
       "  'language',\n",
       "  'understanding',\n",
       "  'involves',\n",
       "  'machine',\n",
       "  'learning',\n",
       "  'models'],\n",
       " ['neural', 'networks', 'are', 'the', 'foundation', 'of', 'deep', 'learning']]"
      ]
     },
     "execution_count": 2,
     "metadata": {},
     "output_type": "execute_result"
    }
   ],
   "source": [
    "tokenized_corpus = [simple_preprocess(sentence) for sentence in corpus]\n",
    "tokenized_corpus"
   ]
  },
  {
   "cell_type": "code",
   "execution_count": 3,
   "metadata": {},
   "outputs": [],
   "source": [
    "model = Word2Vec(sentences=tokenized_corpus, vector_size=10, window=5, min_count=1)"
   ]
  },
  {
   "cell_type": "code",
   "execution_count": 5,
   "metadata": {},
   "outputs": [
    {
     "name": "stdout",
     "output_type": "stream",
     "text": [
      "vocabulary: \n"
     ]
    },
    {
     "data": {
      "text/plain": [
       "{'learning': 0,\n",
       " 'machine': 1,\n",
       " 'natural': 2,\n",
       " 'language': 3,\n",
       " 'deep': 4,\n",
       " 'models': 5,\n",
       " 'of': 6,\n",
       " 'the': 7,\n",
       " 'foundation': 8,\n",
       " 'art': 9,\n",
       " 'and': 10,\n",
       " 'processing': 11,\n",
       " 'can': 12,\n",
       " 'achieve': 13,\n",
       " 'state': 14,\n",
       " 'results': 15,\n",
       " 'are': 16,\n",
       " 'word': 17,\n",
       " 'vec': 18,\n",
       " 'is': 19,\n",
       " 'technique': 20,\n",
       " 'to': 21,\n",
       " 'represent': 22,\n",
       " 'words': 23,\n",
       " 'as': 24,\n",
       " 'vectors': 25,\n",
       " 'understanding': 26,\n",
       " 'involves': 27,\n",
       " 'neural': 28,\n",
       " 'networks': 29,\n",
       " 'love': 30}"
      ]
     },
     "execution_count": 5,
     "metadata": {},
     "output_type": "execute_result"
    }
   ],
   "source": [
    "print(\"vocabulary: \")\n",
    "model.wv.key_to_index"
   ]
  },
  {
   "cell_type": "code",
   "execution_count": 7,
   "metadata": {},
   "outputs": [
    {
     "data": {
      "text/plain": [
       "array([-0.00538373,  0.00234567,  0.05099428,  0.09004445, -0.09300488,\n",
       "       -0.07116753,  0.0645984 ,  0.08973689, -0.05016401, -0.03759819],\n",
       "      dtype=float32)"
      ]
     },
     "execution_count": 7,
     "metadata": {},
     "output_type": "execute_result"
    }
   ],
   "source": [
    "word_vector = model.wv['learning']\n",
    "word_vector"
   ]
  },
  {
   "cell_type": "code",
   "execution_count": 8,
   "metadata": {},
   "outputs": [
    {
     "data": {
      "text/plain": [
       "[('machine', 0.5435398817062378),\n",
       " ('to', 0.5109580159187317),\n",
       " ('and', 0.4318232536315918),\n",
       " ('understanding', 0.4006551206111908),\n",
       " ('foundation', 0.37922871112823486)]"
      ]
     },
     "execution_count": 8,
     "metadata": {},
     "output_type": "execute_result"
    }
   ],
   "source": [
    "similar_words = model.wv.most_similar('learning', topn=5)\n",
    "\n",
    "similar_words"
   ]
  },
  {
   "cell_type": "code",
   "execution_count": null,
   "metadata": {},
   "outputs": [],
   "source": [
    "model.save(\"word2vec.model\")"
   ]
  }
 ],
 "metadata": {
  "kernelspec": {
   "display_name": "base",
   "language": "python",
   "name": "python3"
  },
  "language_info": {
   "codemirror_mode": {
    "name": "ipython",
    "version": 3
   },
   "file_extension": ".py",
   "mimetype": "text/x-python",
   "name": "python",
   "nbconvert_exporter": "python",
   "pygments_lexer": "ipython3",
   "version": "3.11.3"
  }
 },
 "nbformat": 4,
 "nbformat_minor": 2
}
