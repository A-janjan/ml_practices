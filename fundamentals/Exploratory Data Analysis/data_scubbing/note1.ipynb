{
 "cells": [
  {
   "cell_type": "code",
   "execution_count": 2,
   "metadata": {},
   "outputs": [],
   "source": [
    "import pandas as pd\n",
    "\n",
    "data = {\n",
    "    'A': [1, 2, None, 4],\n",
    "    'B': [None, 2, 3, None],\n",
    "    'C': [1, None, None, 4]\n",
    "}"
   ]
  },
  {
   "cell_type": "code",
   "execution_count": 4,
   "metadata": {},
   "outputs": [
    {
     "name": "stdout",
     "output_type": "stream",
     "text": [
      "     A    B    C\n",
      "0  1.0  NaN  1.0\n",
      "1  2.0  2.0  NaN\n",
      "2  NaN  3.0  NaN\n",
      "3  4.0  NaN  4.0\n"
     ]
    }
   ],
   "source": [
    "df = pd.DataFrame(data)\n",
    "\n",
    "print(df)"
   ]
  },
  {
   "cell_type": "code",
   "execution_count": 5,
   "metadata": {},
   "outputs": [
    {
     "name": "stdout",
     "output_type": "stream",
     "text": [
      "A    1\n",
      "B    2\n",
      "C    2\n",
      "dtype: int64\n"
     ]
    }
   ],
   "source": [
    "print(df.isnull().sum())"
   ]
  },
  {
   "cell_type": "code",
   "execution_count": 7,
   "metadata": {},
   "outputs": [
    {
     "data": {
      "text/plain": [
       "<Axes: >"
      ]
     },
     "execution_count": 7,
     "metadata": {},
     "output_type": "execute_result"
    },
    {
     "data": {
      "image/png": "[encoded data removed]",
      "text/plain": [
       "<Figure size 640x480 with 1 Axes>"
      ]
     },
     "metadata": {},
     "output_type": "display_data"
    }
   ],
   "source": [
    "import seaborn as sns\n",
    "import matplotlib.pyplot as plt\n",
    "\n",
    "sns.heatmap(df.isnull(), cbar=False, cmap='viridis')"
   ]
  },
  {
   "cell_type": "code",
   "execution_count": 8,
   "metadata": {},
   "outputs": [
    {
     "name": "stdout",
     "output_type": "stream",
     "text": [
      "Empty DataFrame\n",
      "Columns: [A, B, C]\n",
      "Index: []\n"
     ]
    }
   ],
   "source": [
    "# remove rows with missing values\n",
    "\n",
    "df_dropped_rows = df.dropna()\n",
    "print(df_dropped_rows)"
   ]
  },
  {
   "cell_type": "code",
   "execution_count": 9,
   "metadata": {},
   "outputs": [
    {
     "name": "stdout",
     "output_type": "stream",
     "text": [
      "Empty DataFrame\n",
      "Columns: []\n",
      "Index: [0, 1, 2, 3]\n"
     ]
    }
   ],
   "source": [
    "# remove column with missing values\n",
    "\n",
    "df_dropped_cols = df.dropna(axis=1)\n",
    "print(df_dropped_cols)"
   ]
  },
  {
   "cell_type": "code",
   "execution_count": 11,
   "metadata": {},
   "outputs": [
    {
     "name": "stdout",
     "output_type": "stream",
     "text": [
      "          A    B    C\n",
      "0  1.000000  2.5  1.0\n",
      "1  2.000000  2.0  2.5\n",
      "2  2.333333  3.0  2.5\n",
      "3  4.000000  2.5  4.0\n",
      "     A    B    C\n",
      "0  1.0  2.5  1.0\n",
      "1  2.0  2.0  2.5\n",
      "2  2.0  3.0  2.5\n",
      "3  4.0  2.5  4.0\n",
      "     A    B    C\n",
      "0  1.0  2.0  1.0\n",
      "1  2.0  2.0  1.0\n",
      "2  1.0  3.0  1.0\n",
      "3  4.0  2.0  4.0\n"
     ]
    }
   ],
   "source": [
    "# mean/median/mode imputation\n",
    "\n",
    "df_imputed_mean = df.fillna(df.mean())\n",
    "print(df_imputed_mean)\n",
    "\n",
    "df_imputed_median = df.fillna(df.median())\n",
    "print(df_imputed_median)\n",
    "\n",
    "df_imputed_mode = df.apply(lambda x: x.fillna(x.mode()[0]))\n",
    "print(df_imputed_mode)"
   ]
  },
  {
   "cell_type": "code",
   "execution_count": 12,
   "metadata": {},
   "outputs": [
    {
     "name": "stdout",
     "output_type": "stream",
     "text": [
      "     A    B    C\n",
      "0  1.0  NaN  1.0\n",
      "1  2.0  2.0  1.0\n",
      "2  2.0  3.0  1.0\n",
      "3  4.0  3.0  4.0\n"
     ]
    }
   ],
   "source": [
    "# forward fill\n",
    "\n",
    "df_ffill = df.fillna(method=\"ffill\")\n",
    "print(df_ffill)"
   ]
  },
  {
   "cell_type": "code",
   "execution_count": 13,
   "metadata": {},
   "outputs": [
    {
     "name": "stdout",
     "output_type": "stream",
     "text": [
      "     A    B    C\n",
      "0  1.0  2.0  1.0\n",
      "1  2.0  2.0  4.0\n",
      "2  4.0  3.0  4.0\n",
      "3  4.0  NaN  4.0\n"
     ]
    }
   ],
   "source": [
    "# backward fill\n",
    "\n",
    "df_bfill = df.fillna(method=\"bfill\")\n",
    "print(df_bfill)"
   ]
  },
  {
   "cell_type": "code",
   "execution_count": 14,
   "metadata": {},
   "outputs": [
    {
     "name": "stdout",
     "output_type": "stream",
     "text": [
      "     A    B    C\n",
      "0  1.0  NaN  1.0\n",
      "1  2.0  2.0  2.0\n",
      "2  3.0  3.0  3.0\n",
      "3  4.0  3.0  4.0\n"
     ]
    }
   ],
   "source": [
    "# using interpolation\n",
    "\n",
    "df_interpolated = df.interpolate()\n",
    "\n",
    "print(df_interpolated)"
   ]
  },
  {
   "cell_type": "code",
   "execution_count": 15,
   "metadata": {},
   "outputs": [
    {
     "name": "stdout",
     "output_type": "stream",
     "text": [
      "Imputing row 1/4 with 1 missing, elapsed time: 0.000\n",
      "[KNN] Warning: 1/12 still missing after imputation, replacing with 0\n",
      "     A    B    C\n",
      "0  1.0  2.0  1.0\n",
      "1  2.0  2.0  1.6\n",
      "2  2.0  3.0  0.0\n",
      "3  4.0  2.0  4.0\n"
     ]
    }
   ],
   "source": [
    "from fancyimpute import KNN\n",
    "\n",
    "df_knn_imputed = pd.DataFrame(KNN(k=3).fit_transform(df), columns=df.columns)\n",
    "\n",
    "print(df_knn_imputed)"
   ]
  },
  {
   "cell_type": "code",
   "execution_count": 16,
   "metadata": {},
   "outputs": [
    {
     "name": "stdout",
     "output_type": "stream",
     "text": [
      "     A    B    C\n",
      "0  1.0  2.0  1.0\n",
      "1  2.0  2.0  1.0\n",
      "2  2.0  3.0  1.0\n",
      "3  4.0  2.0  4.0\n"
     ]
    }
   ],
   "source": [
    "from statsmodels.imputation.mice import MICEData\n",
    "\n",
    "mice = MICEData(df)\n",
    "\n",
    "df_mice_imputed = mice.data\n",
    "\n",
    "print(df_mice_imputed)"
   ]
  },
  {
   "cell_type": "code",
   "execution_count": null,
   "metadata": {},
   "outputs": [],
   "source": []
  }
 ],
 "metadata": {
  "kernelspec": {
   "display_name": "base",
   "language": "python",
   "name": "python3"
  },
  "language_info": {
   "codemirror_mode": {
    "name": "ipython",
    "version": 3
   },
   "file_extension": ".py",
   "mimetype": "text/x-python",
   "name": "python",
   "nbconvert_exporter": "python",
   "pygments_lexer": "ipython3",
   "version": "3.11.3"
  }
 },
 "nbformat": 4,
 "nbformat_minor": 2
}
