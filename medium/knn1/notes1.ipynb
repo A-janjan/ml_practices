{
 "cells": [
  {
   "cell_type": "markdown",
   "id": "4a4b9340",
   "metadata": {},
   "source": [
    "# KNN from Scratch in Python (Classification)"
   ]
  },
  {
   "cell_type": "code",
   "execution_count": 6,
   "id": "1d4391db",
   "metadata": {},
   "outputs": [],
   "source": [
    "import numpy as np\n",
    "from collections import Counter"
   ]
  },
  {
   "cell_type": "code",
   "execution_count": null,
   "id": "568e0a39",
   "metadata": {},
   "outputs": [],
   "source": [
    "class KNN:\n",
    "    def __init__(self, k=3):\n",
    "        self.k = k\n",
    "    \n",
    "    def fit(self, X_train, y_train):\n",
    "        self.X_train = np.array(X_train)\n",
    "        self.y_train = np.array(y_train)\n",
    "    \n",
    "    def _euclidean_distance(self, x1, x2):\n",
    "        return np.sqrt(np.sum((x1-x2)**2))\n",
    "    \n",
    "    def predict(self, x_test):\n",
    "        predictions = []\n",
    "        for x in x_test:\n",
    "            distances = [self._euclidean_distance(x, x_train) for x_train in self.X_train]\n",
    "            k_indices = np.argsort(distances)[:self.k]\n",
    "            k_labels = [self.y_train[i] for i in k_indices]\n",
    "            majority_vote = Counter(k_labels).most_common(1)[0][0]\n",
    "            predictions.append(majority_vote)\n",
    "            \n",
    "        return predictions"
   ]
  }
 ],
 "metadata": {
  "kernelspec": {
   "display_name": ".venv",
   "language": "python",
   "name": "python3"
  },
  "language_info": {
   "codemirror_mode": {
    "name": "ipython",
    "version": 3
   },
   "file_extension": ".py",
   "mimetype": "text/x-python",
   "name": "python",
   "nbconvert_exporter": "python",
   "pygments_lexer": "ipython3",
   "version": "3.12.3"
  }
 },
 "nbformat": 4,
 "nbformat_minor": 5
}
