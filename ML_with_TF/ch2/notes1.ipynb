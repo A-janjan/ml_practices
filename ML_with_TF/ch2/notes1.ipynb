{
 "cells": [
  {
   "cell_type": "code",
   "execution_count": 4,
   "id": "d14614b5",
   "metadata": {},
   "outputs": [
    {
     "name": "stderr",
     "output_type": "stream",
     "text": [
      "2024-05-23 09:13:01.584087: I tensorflow/compiler/xla/stream_executor/cuda/cuda_gpu_executor.cc:995] successful NUMA node read from SysFS had negative value (-1), but there must be at least one NUMA node, so returning NUMA node zero. See more at https://github.com/torvalds/linux/blob/v6.0/Documentation/ABI/testing/sysfs-bus-pci#L344-L355\n",
      "2024-05-23 09:13:01.674645: I tensorflow/compiler/xla/stream_executor/cuda/cuda_gpu_executor.cc:995] successful NUMA node read from SysFS had negative value (-1), but there must be at least one NUMA node, so returning NUMA node zero. See more at https://github.com/torvalds/linux/blob/v6.0/Documentation/ABI/testing/sysfs-bus-pci#L344-L355\n",
      "2024-05-23 09:13:01.674791: I tensorflow/compiler/xla/stream_executor/cuda/cuda_gpu_executor.cc:995] successful NUMA node read from SysFS had negative value (-1), but there must be at least one NUMA node, so returning NUMA node zero. See more at https://github.com/torvalds/linux/blob/v6.0/Documentation/ABI/testing/sysfs-bus-pci#L344-L355\n",
      "2024-05-23 09:13:01.677684: I tensorflow/compiler/xla/stream_executor/cuda/cuda_gpu_executor.cc:995] successful NUMA node read from SysFS had negative value (-1), but there must be at least one NUMA node, so returning NUMA node zero. See more at https://github.com/torvalds/linux/blob/v6.0/Documentation/ABI/testing/sysfs-bus-pci#L344-L355\n",
      "2024-05-23 09:13:01.677904: I tensorflow/compiler/xla/stream_executor/cuda/cuda_gpu_executor.cc:995] successful NUMA node read from SysFS had negative value (-1), but there must be at least one NUMA node, so returning NUMA node zero. See more at https://github.com/torvalds/linux/blob/v6.0/Documentation/ABI/testing/sysfs-bus-pci#L344-L355\n",
      "2024-05-23 09:13:01.678074: I tensorflow/compiler/xla/stream_executor/cuda/cuda_gpu_executor.cc:995] successful NUMA node read from SysFS had negative value (-1), but there must be at least one NUMA node, so returning NUMA node zero. See more at https://github.com/torvalds/linux/blob/v6.0/Documentation/ABI/testing/sysfs-bus-pci#L344-L355\n",
      "2024-05-23 09:13:02.384247: I tensorflow/compiler/xla/stream_executor/cuda/cuda_gpu_executor.cc:995] successful NUMA node read from SysFS had negative value (-1), but there must be at least one NUMA node, so returning NUMA node zero. See more at https://github.com/torvalds/linux/blob/v6.0/Documentation/ABI/testing/sysfs-bus-pci#L344-L355\n",
      "2024-05-23 09:13:02.384376: I tensorflow/compiler/xla/stream_executor/cuda/cuda_gpu_executor.cc:995] successful NUMA node read from SysFS had negative value (-1), but there must be at least one NUMA node, so returning NUMA node zero. See more at https://github.com/torvalds/linux/blob/v6.0/Documentation/ABI/testing/sysfs-bus-pci#L344-L355\n",
      "2024-05-23 09:13:02.384478: I tensorflow/compiler/xla/stream_executor/cuda/cuda_gpu_executor.cc:995] successful NUMA node read from SysFS had negative value (-1), but there must be at least one NUMA node, so returning NUMA node zero. See more at https://github.com/torvalds/linux/blob/v6.0/Documentation/ABI/testing/sysfs-bus-pci#L344-L355\n",
      "2024-05-23 09:13:02.384573: I tensorflow/core/common_runtime/gpu/gpu_device.cc:1639] Created device /job:localhost/replica:0/task:0/device:GPU:0 with 3382 MB memory:  -> device: 0, name: Quadro P620, pci bus id: 0000:01:00.0, compute capability: 6.1\n"
     ]
    }
   ],
   "source": [
    "# different ways to respresent tensors\n",
    "\n",
    "import tensorflow as tf\n",
    "import numpy as np\n",
    "\n",
    "\n",
    "m1 = [[1.0, 2.0], \n",
    "      [3.0, 4.0]]\n",
    "\n",
    "m2 = np.array([[1.0 ,2.0],\n",
    "             [3.0, 4.0]], dtype=np.float32)\n",
    "\n",
    "m3 = tf.constant([[1.0, 2.0], [3.0, 4.0]])"
   ]
  },
  {
   "cell_type": "code",
   "execution_count": 8,
   "id": "56dd1b17",
   "metadata": {},
   "outputs": [
    {
     "name": "stdout",
     "output_type": "stream",
     "text": [
      "<class 'list'>\n",
      "<class 'numpy.ndarray'>\n",
      "<class 'tensorflow.python.framework.ops.EagerTensor'>\n"
     ]
    }
   ],
   "source": [
    "print(type(m1))\n",
    "print(type(m2))\n",
    "print(type(m3))"
   ]
  },
  {
   "cell_type": "code",
   "execution_count": 9,
   "id": "a72eb0cf",
   "metadata": {},
   "outputs": [],
   "source": [
    "t1 = tf.convert_to_tensor(m1, dtype=tf.float32)\n",
    "t2 = tf.convert_to_tensor(m2, dtype=tf.float32)\n",
    "t3 = tf.convert_to_tensor(m3, dtype=tf.float32)"
   ]
  },
  {
   "cell_type": "code",
   "execution_count": 10,
   "id": "e539fdf8",
   "metadata": {},
   "outputs": [
    {
     "name": "stdout",
     "output_type": "stream",
     "text": [
      "<class 'tensorflow.python.framework.ops.EagerTensor'>\n",
      "<class 'tensorflow.python.framework.ops.EagerTensor'>\n",
      "<class 'tensorflow.python.framework.ops.EagerTensor'>\n"
     ]
    }
   ],
   "source": [
    "print(type(t1))\n",
    "print(type(t2))\n",
    "print(type(t3))"
   ]
  },
  {
   "cell_type": "code",
   "execution_count": 11,
   "id": "6fd5ec70",
   "metadata": {},
   "outputs": [
    {
     "name": "stdout",
     "output_type": "stream",
     "text": [
      "tf.Tensor([[1. 2.]], shape=(1, 2), dtype=float32)\n",
      "tf.Tensor(\n",
      "[[1]\n",
      " [2]], shape=(2, 1), dtype=int32)\n",
      "tf.Tensor(\n",
      "[[[ 1  2]\n",
      "  [ 3  4]\n",
      "  [ 5  6]]\n",
      "\n",
      " [[ 7  8]\n",
      "  [ 9 10]\n",
      "  [11 12]]], shape=(2, 3, 2), dtype=int32)\n"
     ]
    }
   ],
   "source": [
    "# creating tensors\n",
    "\n",
    "import tensorflow as tf\n",
    "\n",
    "m1 = tf.constant([[1. , 2.]])\n",
    "\n",
    "m2 = tf.constant([[1],\n",
    "                 [2]])\n",
    "\n",
    "m3 = tf.constant([[[1,2],\n",
    "                  [3,4],\n",
    "                  [5,6]],\n",
    "                  [[7,8],\n",
    "                   [9,10],\n",
    "                   [11,12]]])\n",
    "\n",
    "print(m1)\n",
    "print(m2)\n",
    "print(m3)"
   ]
  },
  {
   "cell_type": "code",
   "execution_count": 12,
   "id": "2989e958",
   "metadata": {},
   "outputs": [
    {
     "name": "stdout",
     "output_type": "stream",
     "text": [
      "tf.Tensor([[1 2]], shape=(1, 2), dtype=int32)\n"
     ]
    }
   ],
   "source": [
    "# using the negation operator\n",
    "\n",
    "z = tf.constant([[1,2]])\n",
    "\n",
    "negMatrix = tf.negative(z)\n",
    "\n",
    "print(z)"
   ]
  },
  {
   "cell_type": "code",
   "execution_count": 13,
   "id": "149612a3",
   "metadata": {},
   "outputs": [
    {
     "data": {
      "text/plain": [
       "<tf.Tensor: shape=(1, 2), dtype=int32, numpy=array([[-1, -2]], dtype=int32)>"
      ]
     },
     "execution_count": 13,
     "metadata": {},
     "output_type": "execute_result"
    }
   ],
   "source": [
    "negMatrix"
   ]
  },
  {
   "cell_type": "markdown",
   "id": "f2ebc237",
   "metadata": {},
   "source": [
    "## useful tf funcs\n",
    "\n",
    "tf.add(x, y)—Adds two tensors of the same type, x + y\n",
    "\n",
    "tf.subtract(x, y)—Subtracts tensors of the same type, x – y\n",
    "\n",
    "tf.multiply(x, y)—Multiplies two tensors elementwise\n",
    "\n",
    "tf.pow(x, y)—Takes the elementwise x to the power of y\n",
    "\n",
    "tf.exp(x)—Equivalent to pow(e, x), where e is Euler’s number (2.718 …)\n",
    "\n",
    "tf.sqrt(x)—Equivalent to pow(x, 0.5)\n",
    "\n",
    "tf.div(x, y)—Takes the elementwise division of x and y\n",
    "\n",
    "tf.truediv(x, y)—Same as tf.div, but casts the arguments as a float\n",
    "\n",
    "tf.floordiv(x, y)—Same as truediv, but rounds down the final answer into an integer\n",
    "\n",
    "tf.mod(x, y)—Takes the elementwise remainder from division"
   ]
  },
  {
   "cell_type": "code",
   "execution_count": 2,
   "id": "fc3f0ab5",
   "metadata": {},
   "outputs": [
    {
     "name": "stdout",
     "output_type": "stream",
     "text": [
      "spike:  False\n",
      "spike:  True\n",
      "spike:  False\n",
      "spike:  False\n",
      "spike:  True\n",
      "spike:  False\n",
      "spike:  True\n"
     ]
    }
   ],
   "source": [
    "# using variable\n",
    "import tensorflow as tf\n",
    "\n",
    "raw_data = [1., 2., 8., -1., 0., 5.5, 6., 13]\n",
    "spike = tf.Variable(False)\n",
    "\n",
    "for i in range(1, len(raw_data)):\n",
    "    if raw_data[i] - raw_data[i-1] > 5:\n",
    "        spike.assign(True)\n",
    "    else:\n",
    "        spike.assign(False)\n",
    "    print('spike: ', spike.numpy())"
   ]
  },
  {
   "cell_type": "code",
   "execution_count": 6,
   "id": "2b0df161",
   "metadata": {},
   "outputs": [
    {
     "data": {
      "text/plain": [
       "'2.13.0'"
      ]
     },
     "execution_count": 6,
     "metadata": {},
     "output_type": "execute_result"
    }
   ],
   "source": [
    "tf.__version__"
   ]
  },
  {
   "cell_type": "code",
   "execution_count": 14,
   "id": "27c5900f",
   "metadata": {},
   "outputs": [
    {
     "name": "stdout",
     "output_type": "stream",
     "text": [
      "False\n",
      "False\n",
      "True\n",
      "False\n",
      "False\n",
      "True\n",
      "False\n",
      "True\n",
      "checkpoint file path is:  ./checkpoints/spikes.ckpt-1\n"
     ]
    }
   ],
   "source": [
    "raw_data = [1., 2., 8., -1., 0., 5.5, 6., 13]\n",
    "\n",
    "spikes = tf.Variable([False]*len(raw_data), name='spikes')\n",
    "\n",
    "for i in range(1, len(raw_data)):\n",
    "    if raw_data[i] - raw_data[i-1] > 5:\n",
    "        spikes[i].assign(True)\n",
    "\n",
    "for i in range(len(raw_data)):\n",
    "    print(spikes[i].numpy())\n",
    "    \n",
    "checkpoint = tf.train.Checkpoint(spikes=spikes)\n",
    "save_path = checkpoint.save('./checkpoints/spikes.ckpt')\n",
    "print('checkpoint file path is: ', save_path)"
   ]
  },
  {
   "cell_type": "code",
   "execution_count": 15,
   "id": "434b0325",
   "metadata": {},
   "outputs": [
    {
     "data": {
      "text/plain": [
       "<tensorflow.python.checkpoint.checkpoint.CheckpointLoadStatus at 0x7f6f4f11b150>"
      ]
     },
     "execution_count": 15,
     "metadata": {},
     "output_type": "execute_result"
    }
   ],
   "source": [
    "restored_spikes = tf.Variable([False] * len(raw_data))\n",
    "checkpoint = tf.train.Checkpoint(spikes=restored_spikes)\n",
    "checkpoint.restore(tf.train.latest_checkpoint('./checkpoints')).expect_partial()"
   ]
  },
  {
   "cell_type": "code",
   "execution_count": 16,
   "id": "399dca25",
   "metadata": {},
   "outputs": [
    {
     "data": {
      "text/plain": [
       "<tf.Variable 'Variable:0' shape=(8,) dtype=bool, numpy=array([False, False,  True, False, False,  True, False,  True])>"
      ]
     },
     "execution_count": 16,
     "metadata": {},
     "output_type": "execute_result"
    }
   ],
   "source": [
    "restored_spikes"
   ]
  },
  {
   "cell_type": "code",
   "execution_count": 18,
   "id": "9a1b8d49",
   "metadata": {},
   "outputs": [
    {
     "name": "stdout",
     "output_type": "stream",
     "text": [
      "tf.Tensor(\n",
      "[[[ 0.14988168 -0.2865736   0.996201   -0.19231685]\n",
      "  [ 1.0491823   0.1621614   0.7639901  -0.08952646]\n",
      "  [-2.0867417   0.49705365  0.3903      0.18710676]]\n",
      "\n",
      " [[ 0.4658837   0.7195598   1.5447904   1.611349  ]\n",
      "  [-0.4753937   0.3851614  -0.17793776  0.19236968]\n",
      "  [-0.5651991  -0.565183    2.6565568  -0.82590586]]], shape=(2, 3, 4), dtype=float32)\n"
     ]
    }
   ],
   "source": [
    "# reduce sum function\n",
    "\n",
    "import tensorflow as tf\n",
    "\n",
    "img = tf.random.normal([2,3,4])\n",
    "\n",
    "print(img)"
   ]
  },
  {
   "cell_type": "code",
   "execution_count": 20,
   "id": "916a8a5e",
   "metadata": {},
   "outputs": [
    {
     "name": "stdout",
     "output_type": "stream",
     "text": [
      "tf.Tensor(6.50677, shape=(), dtype=float32)\n"
     ]
    }
   ],
   "source": [
    "total_sum = tf.reduce_sum(img)\n",
    "\n",
    "print(total_sum)"
   ]
  },
  {
   "cell_type": "code",
   "execution_count": 21,
   "id": "b19a8e4a",
   "metadata": {},
   "outputs": [
    {
     "name": "stdout",
     "output_type": "stream",
     "text": [
      "tf.Tensor(\n",
      "[[ 0.6157654   0.4329862   2.5409913   1.4190321 ]\n",
      " [ 0.5737886   0.5473228   0.58605236  0.10284323]\n",
      " [-2.6519408  -0.06812933  3.0468569  -0.6387991 ]], shape=(3, 4), dtype=float32)\n"
     ]
    }
   ],
   "source": [
    "total_sum = tf.reduce_sum(img, axis=0)\n",
    "\n",
    "print(total_sum)"
   ]
  },
  {
   "cell_type": "code",
   "execution_count": 22,
   "id": "064eaefe",
   "metadata": {},
   "outputs": [
    {
     "name": "stdout",
     "output_type": "stream",
     "text": [
      "tf.Tensor(\n",
      "[[-0.88767767  0.37264144  2.150491   -0.09473655]\n",
      " [-0.57470906  0.5395382   4.0234094   0.9778128 ]], shape=(2, 4), dtype=float32)\n"
     ]
    }
   ],
   "source": [
    "total_sum = tf.reduce_sum(img, axis=1)\n",
    "\n",
    "print(total_sum)"
   ]
  },
  {
   "cell_type": "code",
   "execution_count": 23,
   "id": "c60ebf73",
   "metadata": {},
   "outputs": [
    {
     "name": "stdout",
     "output_type": "stream",
     "text": [
      "tf.Tensor(\n",
      "[[ 0.6671922   1.8858073  -1.0122813 ]\n",
      " [ 4.341583   -0.07580037  0.7002689 ]], shape=(2, 3), dtype=float32)\n"
     ]
    }
   ],
   "source": [
    "total_sum = tf.reduce_sum(img, axis=2)\n",
    "\n",
    "print(total_sum)"
   ]
  },
  {
   "cell_type": "code",
   "execution_count": 33,
   "id": "2b8b29ed",
   "metadata": {},
   "outputs": [],
   "source": [
    "import numpy as np\n",
    "import tensorflow as tf\n",
    "\n",
    "# Generate raw_data with normal distribution\n",
    "raw_data = np.random.normal(10, 1, 100)\n",
    "\n",
    "# Define constants and variables\n",
    "alpha = tf.constant(0.05, dtype=tf.float32)\n",
    "prev_avg = tf.Variable(0.0, dtype=tf.float32)\n",
    "\n",
    "log_dir = './logs'\n",
    "\n",
    "summary_writter = tf.summary.create_file_writer(log_dir)\n",
    "\n",
    "@tf.function\n",
    "def update_running_average(curr_val, prev_avg, alpha):\n",
    "    ret = alpha * curr_value + (1 - alpha) * prev_avg\n",
    "    return ret"
   ]
  },
  {
   "cell_type": "code",
   "execution_count": 34,
   "id": "6bfe4289",
   "metadata": {},
   "outputs": [
    {
     "data": {
      "text/plain": [
       "<tf.Variable 'UnreadVariable' shape=() dtype=float32, numpy=0.0>"
      ]
     },
     "execution_count": 34,
     "metadata": {},
     "output_type": "execute_result"
    }
   ],
   "source": [
    "prev_avg.assign(0.0)"
   ]
  },
  {
   "cell_type": "code",
   "execution_count": 35,
   "id": "5c8797e5",
   "metadata": {},
   "outputs": [
    {
     "name": "stdout",
     "output_type": "stream",
     "text": [
      "10.81005611886239 0.5405028\n",
      "8.77616028121942 1.0539804\n",
      "10.293554635002081 1.541784\n",
      "10.888314118830243 2.0051975\n",
      "10.153312442409858 2.4454403\n",
      "8.70264671221735 2.863671\n",
      "9.096249449269935 3.2609904\n",
      "9.421621680247098 3.6384437\n",
      "10.277977287677489 3.9970243\n",
      "8.785608083902916 4.337676\n",
      "10.337824191161474 4.661295\n",
      "9.404467320961995 4.968733\n",
      "10.291243614784493 5.2607985\n",
      "11.328256799549928 5.5382614\n",
      "9.656731208453778 5.8018513\n",
      "11.925894424669648 6.0522614\n",
      "11.47524610847533 6.2901506\n",
      "9.08872836616721 6.5161457\n",
      "8.177676018269548 6.7308407\n",
      "9.848412901179971 6.934801\n",
      "10.243021266835454 7.128564\n",
      "10.54361333887367 7.3126383\n",
      "7.494128422346517 7.487509\n",
      "9.164784958194112 7.653636\n",
      "10.706796676813623 7.8114567\n",
      "9.969988314482876 7.9613867\n",
      "9.296543157105212 8.10382\n",
      "9.227668149568556 8.239132\n",
      "9.09425788613281 8.367678\n",
      "10.251836670853038 8.489797\n",
      "10.788440527785513 8.605809\n",
      "10.966529239617216 8.716022\n",
      "9.664240133137794 8.820723\n",
      "10.687147592858656 8.920189\n",
      "9.794122715748522 9.014682\n",
      "8.974492543112525 9.10445\n",
      "9.473564554623074 9.18973\n",
      "10.24265639523891 9.270745\n",
      "9.707710200916688 9.347711\n",
      "9.85846229436472 9.420828\n",
      "11.1016881814287 9.490289\n",
      "10.464855742867584 9.556276\n",
      "9.959064880785666 9.618965\n",
      "8.821166987667121 9.678519\n",
      "11.572909277927554 9.735096\n",
      "9.761512870403063 9.788843\n",
      "10.455619001769032 9.839904\n",
      "8.45703535307806 9.8884115\n",
      "10.340635143440824 9.934493\n",
      "8.945926912844044 9.978271\n",
      "9.127067851656351 10.019859\n",
      "8.237283687404823 10.059369\n",
      "9.359366922813054 10.096903\n",
      "8.235373644526536 10.13256\n",
      "9.716115753362406 10.166434\n",
      "10.628463673110572 10.198615\n",
      "9.081377859180192 10.229187\n",
      "12.060518003885726 10.25823\n",
      "9.208037313415069 10.285821\n",
      "10.544318686284118 10.312033\n",
      "10.63562560960872 10.336933\n",
      "10.61607283446714 10.360589\n",
      "10.283677813244008 10.383062\n",
      "8.76621144213471 10.404411\n",
      "10.323401073883305 10.424693\n",
      "8.988179990514478 10.443961\n",
      "10.087922147373417 10.462266\n",
      "10.41782929894257 10.479655\n",
      "10.834313712679569 10.496175\n",
      "10.588401395156941 10.5118685\n",
      "10.457913028706265 10.526777\n",
      "10.320766326097482 10.540941\n",
      "11.290349385189545 10.554397\n",
      "9.599979165407863 10.56718\n",
      "10.431651832505608 10.579323\n",
      "8.97682926809005 10.590859\n",
      "9.59738498479314 10.601819\n",
      "8.633085944482437 10.61223\n",
      "8.566549491931216 10.622121\n",
      "12.682476576546382 10.631517\n",
      "9.454284488259393 10.640444\n",
      "11.439204904367712 10.648924\n",
      "10.410754479187501 10.6569805\n",
      "10.727998156180554 10.664634\n",
      "10.85114932819615 10.671905\n",
      "9.360051823572551 10.678812\n",
      "8.855752720783757 10.685374\n",
      "10.373681646732567 10.691608\n",
      "10.29572244084968 10.697531\n",
      "10.67365436444856 10.703156\n",
      "7.754909613152842 10.708501\n",
      "10.501580909261566 10.713578\n",
      "8.855560201001666 10.718402\n",
      "10.695288290368438 10.722984\n",
      "12.61248667789421 10.727338\n",
      "11.596143868417666 10.731473\n",
      "9.392187713625164 10.735402\n",
      "11.34176020820461 10.739135\n",
      "7.727725713172854 10.742681\n",
      "9.710128288061242 10.746049\n"
     ]
    }
   ],
   "source": [
    "for i, val in enumerate(raw_data):\n",
    "    curr_value = tf.constant(val, dtype=tf.float32)\n",
    "    new_avg = update_running_average(val, prev_avg, alpha)\n",
    "    prev_avg.assign(new_avg)\n",
    "    \n",
    "    with summary_writter.as_default():\n",
    "        tf.summary.scalar(\"running_average\", new_avg, step=i)\n",
    "        tf.summary.scalar(\"incoming_values\", val, step=i)\n",
    "        \n",
    "    print(val, new_avg.numpy())"
   ]
  },
  {
   "cell_type": "code",
   "execution_count": 36,
   "id": "fd71f8c6",
   "metadata": {},
   "outputs": [
    {
     "name": "stdout",
     "output_type": "stream",
     "text": [
      "Final running average: 10.746049\n"
     ]
    }
   ],
   "source": [
    "print(\"Final running average:\", prev_avg.numpy())"
   ]
  },
  {
   "cell_type": "code",
   "execution_count": null,
   "id": "e6a0b6f6",
   "metadata": {},
   "outputs": [],
   "source": []
  }
 ],
 "metadata": {
  "kernelspec": {
   "display_name": "Python 3 (ipykernel)",
   "language": "python",
   "name": "python3"
  },
  "language_info": {
   "codemirror_mode": {
    "name": "ipython",
    "version": 3
   },
   "file_extension": ".py",
   "mimetype": "text/x-python",
   "name": "python",
   "nbconvert_exporter": "python",
   "pygments_lexer": "ipython3",
   "version": "3.11.3"
  }
 },
 "nbformat": 4,
 "nbformat_minor": 5
}
