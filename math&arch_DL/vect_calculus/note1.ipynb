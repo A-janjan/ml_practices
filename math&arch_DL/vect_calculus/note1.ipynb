{
 "cells": [
  {
   "cell_type": "code",
   "execution_count": 1,
   "metadata": {},
   "outputs": [],
   "source": [
    "import numpy as np\n",
    "\n",
    "np.random.seed(0)"
   ]
  },
  {
   "cell_type": "code",
   "execution_count": 2,
   "metadata": {},
   "outputs": [
    {
     "data": {
      "text/plain": [
       "<torch._C.Generator at 0x7adcaebac850>"
      ]
     },
     "execution_count": 2,
     "metadata": {},
     "output_type": "execute_result"
    }
   ],
   "source": [
    "import torch\n",
    "\n",
    "torch.manual_seed(42)"
   ]
  },
  {
   "cell_type": "code",
   "execution_count": 3,
   "metadata": {},
   "outputs": [
    {
     "data": {
      "text/plain": [
       "tensor([ 1.9269e+01,  1.4873e+01,  9.0072e+00, -2.1055e+01,  6.7842e+00,\n",
       "        -1.2345e+01, -4.3067e-01, -1.6047e+01, -7.5214e+00,  1.6487e+01,\n",
       "        -3.9248e+00, -1.4036e+01, -7.2788e+00, -5.5943e+00, -7.6884e+00,\n",
       "         7.6245e+00,  1.6423e+01, -1.5960e+00, -4.9740e+00,  4.3959e+00,\n",
       "        -7.5813e+00,  1.0783e+01,  8.0080e+00,  1.6806e+01,  1.2791e+01,\n",
       "         1.2964e+01,  6.1047e+00,  1.3347e+01, -2.3162e+00,  4.1759e-01,\n",
       "        -2.5158e+00,  8.5986e+00, -1.3847e+01, -8.7124e+00, -2.2337e+00,\n",
       "         1.7174e+01,  3.1888e+00, -4.2452e+00,  3.0572e+00, -7.7459e+00,\n",
       "        -1.5576e+01,  9.9564e+00, -8.7979e+00, -6.0114e+00, -1.2742e+01,\n",
       "         2.1228e+01, -1.2347e+01, -4.8791e+00, -9.1382e+00, -6.5814e+00,\n",
       "         7.8024e-01,  5.2581e+00, -4.8799e+00,  1.1914e+01, -8.1401e+00,\n",
       "        -7.3599e+00, -1.4032e+01,  3.6004e-01, -6.3477e-01,  6.7561e+00,\n",
       "        -9.7807e-01,  1.8446e+01, -1.1845e+01,  1.3835e+01,  1.4451e+01,\n",
       "         8.5641e+00,  2.2181e+01,  5.2317e+00,  3.4665e+00, -1.9733e+00,\n",
       "        -1.0546e+01,  1.2780e+01, -1.7219e+00,  5.2379e+00,  5.6622e-01,\n",
       "         4.2630e+00,  5.7501e+00, -6.4172e+00, -2.2064e+01, -7.5080e+00,\n",
       "         1.0868e-01, -3.3874e+00, -1.3407e+01, -5.8537e+00,  6.4076e+00,\n",
       "         5.8325e+00,  1.0669e+01, -4.5015e+00, -6.7875e+00,  5.7432e+00,\n",
       "         1.8775e+00, -3.5762e+00,  2.6491e+00,  1.2732e+01, -1.3109e-02,\n",
       "        -3.0360e+00, -9.8644e+00,  1.2330e+00,  3.4987e+00,  6.1728e+00])"
      ]
     },
     "execution_count": 3,
     "metadata": {},
     "output_type": "execute_result"
    }
   ],
   "source": [
    "N = 100\n",
    "\n",
    "# Generate random x values\n",
    "x = 10 * torch.randn(N)\n",
    "\n",
    "x"
   ]
  },
  {
   "cell_type": "code",
   "execution_count": 4,
   "metadata": {},
   "outputs": [
    {
     "data": {
      "text/plain": [
       "tensor([ 31.6337,  25.0393,  16.2408, -28.8528,  12.9063, -15.7882,   2.0840,\n",
       "        -21.3400,  -8.5520,  27.4608,  -3.1572, -18.3241,  -8.1882,  -5.6615,\n",
       "         -8.8026,  14.1667,  27.3648,   0.3360,  -4.7310,   9.3238,  -8.6420,\n",
       "         18.9048,  14.7420,  27.9393,  21.9169,  22.1763,  11.8870,  22.7511,\n",
       "         -0.7444,   3.3564,  -1.0436,  15.6279, -18.0401, -10.3385,  -0.6205,\n",
       "         28.4904,   7.5132,  -3.6378,   7.3158,  -8.8889, -20.6336,  17.6645,\n",
       "        -10.4668,  -6.2871, -16.3823,  34.5718, -15.7898,  -4.5887, -10.9773,\n",
       "         -7.1421,   3.9004,  10.6171,  -4.5899,  20.6005,  -9.4801,  -8.3099,\n",
       "        -18.3187,   3.2701,   1.7778,  12.8642,   1.2629,  30.3989, -15.0381,\n",
       "         23.4832,  24.4070,  15.5762,  36.0011,  10.5775,   7.9297,  -0.2300,\n",
       "        -13.0888,  21.8999,   0.1471,  10.5868,   3.5793,   9.1244,  11.3551,\n",
       "         -6.8959, -30.3660,  -8.5320,   2.8930,  -2.3511, -17.3802,  -6.0506,\n",
       "         12.3413,  11.4787,  18.7339,  -4.0223,  -7.4513,  11.3447,   5.5462,\n",
       "         -2.6343,   6.7036,  21.8275,   2.7103,  -1.8241, -12.0666,   4.5795,\n",
       "          7.9780,  11.9892])"
      ]
     },
     "execution_count": 4,
     "metadata": {},
     "output_type": "execute_result"
    }
   ],
   "source": [
    "# Compute function outputs\n",
    "y = 1.5 * x + 2.73\n",
    "\n",
    "y"
   ]
  },
  {
   "cell_type": "code",
   "execution_count": 5,
   "metadata": {},
   "outputs": [
    {
     "data": {
      "text/plain": [
       "tensor([ 31.9968,  25.0848,  16.0462, -28.5889,  13.4218, -16.1406,   2.5906,\n",
       "        -21.5054,  -8.0045,  27.6308,  -2.7972, -18.1184,  -8.4749,  -5.4080,\n",
       "         -9.0402,  13.9207,  27.2967,   1.1537,  -4.4036,   9.6118,  -8.8224,\n",
       "         18.8745,  14.7786,  28.3486,  21.7292,  22.6929,  11.5437,  23.0695,\n",
       "         -0.6356,   3.3331,  -1.7604,  15.3446, -17.9054, -10.4437,  -0.9869,\n",
       "         28.5426,   8.0339,  -3.8376,   6.1691,  -8.6401, -21.8736,  17.4558,\n",
       "        -11.0645,  -5.8810, -16.5354,  34.4067, -16.2802,  -4.4913, -10.8339,\n",
       "         -7.5075,   3.9878,  10.0702,  -4.1082,  20.4458,  -9.1945,  -7.7509,\n",
       "        -19.0921,   3.6484,   2.1656,  13.8775,   1.7535,  30.0789, -15.2835,\n",
       "         23.5872,  23.9410,  14.7807,  35.4331,  10.3162,   8.2880,   0.5368,\n",
       "        -13.8143,  21.5069,   0.6586,  10.3089,   3.9315,   9.4794,  10.5888,\n",
       "         -7.2584, -30.1328,  -8.1987,   2.3054,  -2.1721, -17.1408,  -5.3737,\n",
       "         12.9929,  11.7226,  19.3009,  -4.2001,  -7.2704,  12.3444,   5.8777,\n",
       "         -2.2820,   6.7143,  21.4129,   2.1699,  -2.2160, -11.8130,   4.6205,\n",
       "          8.2000,  11.6272])"
      ]
     },
     "execution_count": 5,
     "metadata": {},
     "output_type": "execute_result"
    }
   ],
   "source": [
    "# Add random noise to get the observed value of y\n",
    "y_obs = y + (0.5 * torch.randn(N))\n",
    "\n",
    "y_obs"
   ]
  },
  {
   "cell_type": "code",
   "execution_count": 6,
   "metadata": {},
   "outputs": [
    {
     "name": "stdout",
     "output_type": "stream",
     "text": [
      "tensor([0.3932]) tensor([-0.2148])\n"
     ]
    }
   ],
   "source": [
    "# Random initialization of model parameters\n",
    "w = torch.randn(1)\n",
    "b = torch.randn(1)\n",
    "\n",
    "print(w, b)"
   ]
  },
  {
   "cell_type": "code",
   "execution_count": 7,
   "metadata": {},
   "outputs": [
    {
     "name": "stdout",
     "output_type": "stream",
     "text": [
      "Step 0: w = tensor([0.6108]) b = tensor([-0.2075]) \n",
      "MSE Error = 131.45994567871094\n",
      "Gradient of w: -217.66844177246094 \n",
      "Gradient of b: -7.248963832855225\n",
      "Step 400: w = tensor([1.5089]) b = tensor([1.4195]) \n",
      "MSE Error = 1.9599539041519165\n",
      "Gradient of w: 0.016568755730986595 \n",
      "Gradient of b: -2.6519477367401123\n",
      "Step 800: w = tensor([1.5043]) b = tensor([2.1497]) \n",
      "MSE Error = 0.5529757738113403\n",
      "Gradient of w: 0.007476482540369034 \n",
      "Gradient of b: -1.1942120790481567\n",
      "Step 1200: w = tensor([1.5023]) b = tensor([2.4785]) \n",
      "MSE Error = 0.26766437292099\n",
      "Gradient of w: 0.0033882809802889824 \n",
      "Gradient of b: -0.5377742648124695\n",
      "Step 1600: w = tensor([1.5013]) b = tensor([2.6265]) \n",
      "MSE Error = 0.2098071128129959\n",
      "Gradient of w: 0.0015091609675437212 \n",
      "Gradient of b: -0.24216799437999725\n",
      "Step 2000: w = tensor([1.5009]) b = tensor([2.6932]) \n",
      "MSE Error = 0.19807462394237518\n",
      "Gradient of w: 0.0006666564731858671 \n",
      "Gradient of b: -0.10905147343873978\n",
      "Step 2400: w = tensor([1.5007]) b = tensor([2.7232]) \n",
      "MSE Error = 0.1956954002380371\n",
      "Gradient of w: 0.00030168532975949347 \n",
      "Gradient of b: -0.049108561128377914\n",
      "Step 2800: w = tensor([1.5007]) b = tensor([2.7368]) \n",
      "MSE Error = 0.19521299004554749\n",
      "Gradient of w: 0.00017433166794944555 \n",
      "Gradient of b: -0.022114472463726997\n",
      "Step 3200: w = tensor([1.5006]) b = tensor([2.7428]) \n",
      "MSE Error = 0.1951151341199875\n",
      "Gradient of w: 7.095337059581652e-05 \n",
      "Gradient of b: -0.009958386421203613\n",
      "Step 3600: w = tensor([1.5006]) b = tensor([2.7456]) \n",
      "MSE Error = 0.19509528577327728\n",
      "Gradient of w: 5.92327123740688e-05 \n",
      "Gradient of b: -0.004484720062464476\n"
     ]
    }
   ],
   "source": [
    "# Training: repeatative adjustment of parameters via gradient.\n",
    "num_steps = 4000\n",
    "\n",
    "learning_rate = 1e-3\n",
    "\n",
    "for step in range(num_steps):\n",
    "    y_pred = w*x + b\n",
    "    mean_squared_error = torch.mean((y_pred - y_obs) ** 2)\n",
    "    \n",
    "    # Gradient of error computation using calculus formulas.\n",
    "    w_grad = torch.mean(2 * ((y_pred - y_obs)* x))\n",
    "    b_grad = torch.mean(2 * (y_pred - y_obs))\n",
    "    \n",
    "    w = w - learning_rate * w_grad\n",
    "    b = b - learning_rate * b_grad\n",
    "    \n",
    "    # periodically print diagnostic messages\n",
    "    if step % 400 == 0:\n",
    "        print(\"Step {}: w = {} b = {} \\nMSE Error = {}\".format(step, w,  b, mean_squared_error))\n",
    "        print(\"Gradient of w: {} \\nGradient of b: {}\".format(w_grad, b_grad))"
   ]
  },
  {
   "cell_type": "code",
   "execution_count": 8,
   "metadata": {},
   "outputs": [
    {
     "name": "stdout",
     "output_type": "stream",
     "text": [
      "True function: y = 1.5*x + 2.73\n",
      "Learnt function: y_pred = 1.5005970001220703*x + 2.746823787689209\n"
     ]
    }
   ],
   "source": [
    "print(\"True function: y = 1.5*x + 2.73\")\n",
    "print(\"Learnt function: y_pred = {}*x + {}\".format(w[0], b[0]))"
   ]
  },
  {
   "cell_type": "markdown",
   "metadata": {},
   "source": [
    "# Linear approximation of nonlinear data"
   ]
  },
  {
   "cell_type": "code",
   "execution_count": 9,
   "metadata": {},
   "outputs": [
    {
     "data": {
      "text/plain": [
       "tensor([[21.8997],\n",
       "        [53.5027],\n",
       "        [ 1.7890],\n",
       "        [ 2.3600],\n",
       "        [ 8.1385],\n",
       "        [35.8603],\n",
       "        [20.9300],\n",
       "        [73.2040],\n",
       "        [18.1896],\n",
       "        [35.6956],\n",
       "        [10.5813],\n",
       "        [14.2688],\n",
       "        [ 1.6745],\n",
       "        [ 3.3896],\n",
       "        [ 7.8695],\n",
       "        [23.4904],\n",
       "        [43.6351],\n",
       "        [58.0130],\n",
       "        [ 3.0192],\n",
       "        [ 7.2042],\n",
       "        [41.7410],\n",
       "        [76.6210],\n",
       "        [13.6759],\n",
       "        [69.7916],\n",
       "        [15.1564],\n",
       "        [26.8934],\n",
       "        [83.1810],\n",
       "        [ 1.6474],\n",
       "        [ 3.4913],\n",
       "        [12.0050],\n",
       "        [ 8.2044],\n",
       "        [79.5959],\n",
       "        [ 3.1725],\n",
       "        [ 6.5698],\n",
       "        [ 2.9426],\n",
       "        [ 1.7577],\n",
       "        [ 4.2575],\n",
       "        [79.1331],\n",
       "        [47.1082],\n",
       "        [49.8419],\n",
       "        [24.6726],\n",
       "        [ 5.6591],\n",
       "        [30.5662],\n",
       "        [ 1.7603],\n",
       "        [ 2.3125],\n",
       "        [ 5.3269],\n",
       "        [60.5145],\n",
       "        [56.9771],\n",
       "        [ 6.8357],\n",
       "        [20.2173],\n",
       "        [60.7722],\n",
       "        [91.2325],\n",
       "        [43.7469],\n",
       "        [28.6725],\n",
       "        [63.5458],\n",
       "        [ 3.9300],\n",
       "        [31.4095],\n",
       "        [ 1.9431],\n",
       "        [ 2.7675],\n",
       "        [ 5.3238],\n",
       "        [47.4314],\n",
       "        [44.0915],\n",
       "        [ 3.8918],\n",
       "        [37.6607],\n",
       "        [54.1989],\n",
       "        [16.7217],\n",
       "        [23.6410],\n",
       "        [33.8631],\n",
       "        [59.3136],\n",
       "        [88.2412],\n",
       "        [ 2.3883],\n",
       "        [ 8.7644],\n",
       "        [43.7726],\n",
       "        [76.5376],\n",
       "        [79.8652],\n",
       "        [81.3281],\n",
       "        [31.9170],\n",
       "        [ 1.6615],\n",
       "        [26.5511],\n",
       "        [ 3.4303],\n",
       "        [ 1.8024],\n",
       "        [81.6653],\n",
       "        [70.8484],\n",
       "        [ 2.0576],\n",
       "        [31.4187],\n",
       "        [15.2171],\n",
       "        [15.2116],\n",
       "        [ 6.5869],\n",
       "        [42.7961],\n",
       "        [ 4.2524],\n",
       "        [42.0548],\n",
       "        [51.3214],\n",
       "        [66.8497],\n",
       "        [42.3324],\n",
       "        [ 1.7751],\n",
       "        [ 3.1912],\n",
       "        [50.5564],\n",
       "        [32.5992],\n",
       "        [ 1.9605],\n",
       "        [ 4.3719]])"
      ]
     },
     "execution_count": 9,
     "metadata": {},
     "output_type": "execute_result"
    }
   ],
   "source": [
    "torch.manual_seed(0)\n",
    "N = 100\n",
    "\n",
    "# Generate random x values\n",
    "x = 10 * torch.rand(N, 1)\n",
    "\n",
    "# Compute true function outputs \n",
    "y = x**2 - x + 2.0\n",
    "\n",
    "# Add some random noise to get observed values of y\n",
    "y_obs = y + (0.5 * torch.rand(N, 1) - 0.25)\n",
    "\n",
    "y_obs"
   ]
  },
  {
   "cell_type": "code",
   "execution_count": 12,
   "metadata": {},
   "outputs": [],
   "source": [
    "import matplotlib.pyplot as plt\n",
    "\n",
    "def draw_parabola(w0, w1, w2,  min_x=0, max_x=10,\n",
    "                  color='magenta', label=None):\n",
    "    \"\"\"\n",
    "    Plots y = w0 + w1*x + w2*x^2 from interval\n",
    "    (min_x to max_x)\n",
    "    \"\"\"\n",
    "    x = np.linspace(min_x, max_x, 100)\n",
    "    y = w0 + w1*x + w2 * (x**2)\n",
    "    plt.plot(x, y, color=color,\n",
    "             label='y=%0.2f+ %0.2fx + %0.2fx^2'\n",
    "             % (w0, w1, w2) if not label else label)"
   ]
  },
  {
   "cell_type": "code",
   "execution_count": 14,
   "metadata": {},
   "outputs": [
    {
     "data": {
      "text/plain": [
       "<matplotlib.legend.Legend at 0x7adbfc4a2ed0>"
      ]
     },
     "execution_count": 14,
     "metadata": {},
     "output_type": "execute_result"
    },
    {
     "data": {
      "image/png": "[encoded data removed]",
      "text/plain": [
       "<Figure size 640x480 with 1 Axes>"
      ]
     },
     "metadata": {},
     "output_type": "display_data"
    }
   ],
   "source": [
    "# Plot the true function and the data points.\n",
    "# True y values (magenta) will fall on a parabola.\n",
    "# The noise-added observed values (green points)\n",
    "#  will fall around that parabola.\n",
    "\n",
    "\n",
    "plt.scatter(x.data, y_obs.data, color=\"green\")\n",
    "draw_parabola(2, -1, 1)\n",
    "plt.title('True function + data points')\n",
    "plt.xlabel('x')\n",
    "plt.ylabel('y')\n",
    "plt.legend(loc='upper left')"
   ]
  },
  {
   "cell_type": "code",
   "execution_count": 15,
   "metadata": {},
   "outputs": [
    {
     "data": {
      "text/plain": [
       "[tensor([0.8223], requires_grad=True), tensor([0.5210], requires_grad=True)]"
      ]
     },
     "execution_count": 15,
     "metadata": {},
     "output_type": "execute_result"
    }
   ],
   "source": [
    "# First, let us try a\n",
    "# linear model y_pred = wx + b\n",
    "w = torch.rand(1, requires_grad=True)\n",
    "b = torch.rand(1, requires_grad=True)\n",
    "\n",
    "params = [b, w]\n",
    "\n",
    "params"
   ]
  },
  {
   "cell_type": "code",
   "execution_count": 18,
   "metadata": {},
   "outputs": [],
   "source": [
    "def draw_subplot(pos, step,\n",
    "                 true_draw_func, true_draw_params,\n",
    "                 pred_draw_func, pred_draw_params):\n",
    "    \"\"\"\n",
    "    Plots the curves corresponding to a specified pair\n",
    "    of functions.\n",
    "    We use it to plot\n",
    "    (i) the true function (used to generate the observations\n",
    "        that we are trying to predict with a trained mode)\n",
    "    vis a vis\n",
    "    (ii) the model function (used to makes the predictions)\n",
    "         When the predictor is good, the two plots should\n",
    "         more or less coincide.\n",
    "    Thus this is used to visualize the goodness of the\n",
    "    current approximation.\n",
    "    \"\"\"\n",
    "    plt.subplot(2, 2, pos)\n",
    "    plt.title('Step %d'%(step))\n",
    "    true_draw_func(**true_draw_params)\n",
    "    pred_draw_func(**pred_draw_params)\n",
    "    plt.xlabel('x')\n",
    "    plt.ylabel('y')\n",
    "    plt.legend(loc='upper left')"
   ]
  },
  {
   "cell_type": "code",
   "execution_count": 19,
   "metadata": {},
   "outputs": [],
   "source": [
    "def draw_line(m, c, min_x=0, max_x=10,\n",
    "              color='magenta', label=None):\n",
    "    \"\"\"\n",
    "    Plots y = mx + c from interval (min_x to max_x)\n",
    "    \"\"\"\n",
    "    # linspace creates an array of equally spaced\n",
    "    # values between the specified min and max in \n",
    "    # specified number of steps.\n",
    "    x = np.linspace(min_x, max_x, 100)\n",
    "    y = m*x + c\n",
    "    \n",
    "    plt.plot(x, y, color=color, \n",
    "             label='y=%0.2fx+%0.2f'%(m, c)\\\n",
    "                 if not label else label)"
   ]
  },
  {
   "cell_type": "code",
   "execution_count": 20,
   "metadata": {},
   "outputs": [],
   "source": [
    "def update_parameters(params, learning_rate):\n",
    "    \"\"\"\n",
    "    Update the current weight and bias values\n",
    "    from gradient values.\n",
    "    \"\"\"\n",
    "    # Don't track gradients while updating params\n",
    "    with torch.no_grad():\n",
    "        for i, p in enumerate(params):\n",
    "            params[i] = p - learning_rate * p.grad\n",
    "            \n",
    "    # Restore tracking of gradient for all params\n",
    "    for i in range(len(params)):\n",
    "        params[i].requires_grad = True"
   ]
  },
  {
   "cell_type": "code",
   "execution_count": 21,
   "metadata": {},
   "outputs": [
    {
     "name": "stderr",
     "output_type": "stream",
     "text": [
      "/home/davinci/anaconda3/lib/python3.11/site-packages/torch/autograd/__init__.py:200: UserWarning: CUDA initialization: CUDA unknown error - this may be due to an incorrectly set up environment, e.g. changing env variable CUDA_VISIBLE_DEVICES after program start. Setting the available devices to be zero. (Triggered internally at ../c10/cuda/CUDAFunctions.cpp:109.)\n",
      "  Variable._execution_engine.run_backward(  # Calls into the C++ engine to run the backward pass\n"
     ]
    },
    {
     "name": "stdout",
     "output_type": "stream",
     "text": [
      "Step 0: w = tensor([0.5210]) b = tensor([0.8223]) \n",
      "MSE Error = 1327.32177734375\n",
      "Gradient of w: tensor([-398.0006]) \n",
      "Gradient of b: tensor([-52.3423])\n",
      "Step 100: w = tensor([7.4348]) b = tensor([-4.4308]) \n",
      "MSE Error = 74.19503784179688\n",
      "Gradient of w: tensor([-0.7114]) \n",
      "Gradient of b: tensor([4.6875])\n",
      "Step 200: w = tensor([7.9912]) b = tensor([-8.0973]) \n",
      "MSE Error = 60.17138671875\n",
      "Gradient of w: tensor([-0.4234]) \n",
      "Gradient of b: tensor([2.7899])\n",
      "Step 300: w = tensor([8.3224]) b = tensor([-10.2795]) \n",
      "MSE Error = 55.203895568847656\n",
      "Gradient of w: tensor([-0.2520]) \n",
      "Gradient of b: tensor([1.6604])\n",
      "Step 400: w = tensor([8.5195]) b = tensor([-11.5783]) \n",
      "MSE Error = 53.444305419921875\n",
      "Gradient of w: tensor([-0.1500]) \n",
      "Gradient of b: tensor([0.9882])\n",
      "Step 500: w = tensor([8.6368]) b = tensor([-12.3512]) \n",
      "MSE Error = 52.821014404296875\n",
      "Gradient of w: tensor([-0.0893]) \n",
      "Gradient of b: tensor([0.5882])\n",
      "Step 600: w = tensor([8.7066]) b = tensor([-12.8113]) \n",
      "MSE Error = 52.60023498535156\n",
      "Gradient of w: tensor([-0.0531]) \n",
      "Gradient of b: tensor([0.3501])\n",
      "Step 700: w = tensor([8.7481]) b = tensor([-13.0851]) \n",
      "MSE Error = 52.522029876708984\n",
      "Gradient of w: tensor([-0.0316]) \n",
      "Gradient of b: tensor([0.2083])\n",
      "Step 800: w = tensor([8.7729]) b = tensor([-13.2480]) \n",
      "MSE Error = 52.494327545166016\n",
      "Gradient of w: tensor([-0.0188]) \n",
      "Gradient of b: tensor([0.1240])\n",
      "Step 900: w = tensor([8.7876]) b = tensor([-13.3450]) \n",
      "MSE Error = 52.484500885009766\n",
      "Gradient of w: tensor([-0.0112]) \n",
      "Gradient of b: tensor([0.0738])\n"
     ]
    },
    {
     "data": {
      "image/png": "[encoded data removed]",
      "text/plain": [
       "<Figure size 640x480 with 4 Axes>"
      ]
     },
     "metadata": {},
     "output_type": "display_data"
    }
   ],
   "source": [
    "num_steps = 1000\n",
    "learning_rate = 1e-2\n",
    "\n",
    "plt.figure()\n",
    "i = 1\n",
    "plot_steps = [0, 50, 100, 999]\n",
    "\n",
    "# Train model iteratively\n",
    "for step in range(num_steps):\n",
    "    # linear model\n",
    "    y_pred = params[0] + params[1] * x\n",
    "    # Periodically plot the true function and current approximation to check how we are doing\n",
    "    if step in plot_steps:\n",
    "        draw_subplot(i, step, draw_parabola, {\"w0\": 2, \"w1\": -1, \"w2\": 1}, draw_line, {\"m\": params[1].data.numpy()[0],\n",
    "                     \"c\": params[0].data.numpy()[0],\n",
    "                     \"color\": \"blue\",\n",
    "                     \"label\": \"y_pred=%0.2fx+%0.2f\"\n",
    "            % (params[1].data.numpy()[0],\n",
    "               params[0].data.numpy()[0])}\n",
    "        )\n",
    "        i += 1\n",
    "\n",
    "    mean_squared_error = torch.mean((y_pred - y_obs) ** 2)\n",
    "    mean_squared_error.backward()\n",
    "\n",
    "    if step % 100 == 0:\n",
    "        print(\"Step {}: w = {} b = {} \\nMSE Error = {}\"\n",
    "              .format(step, params[1].data,\n",
    "                      params[0].data,\n",
    "                      mean_squared_error))\n",
    "        print(\"Gradient of w: {} \\nGradient of b: {}\"\n",
    "              .format(params[1].grad, params[0].grad))\n",
    "        \n",
    "    update_parameters(params, learning_rate)"
   ]
  },
  {
   "cell_type": "code",
   "execution_count": 22,
   "metadata": {},
   "outputs": [
    {
     "name": "stdout",
     "output_type": "stream",
     "text": [
      "Step 0:\n",
      "w0 = tensor([1.4875]) w1 = tensor([-0.2230]) w2 = tensor([-1.0057])\n",
      "MSE Error = 7090.93505859375\n",
      "Gradient of w0: tensor([-123.5347]) \n",
      "Gradient of w1: tensor([-927.7972])\n",
      "Gradient of w1: tensor([-7398.9434])\n",
      "Step 20000:\n",
      "w0 = tensor([1.4473]) w1 = tensor([-0.7683]) w2 = tensor([0.9801])\n",
      "MSE Error = 0.044630616903305054\n",
      "Gradient of w0: tensor([-0.0930]) \n",
      "Gradient of w1: tensor([0.0411])\n",
      "Gradient of w1: tensor([-0.0038])\n",
      "Step 40000:\n",
      "w0 = tensor([1.6002]) w1 = tensor([-0.8353]) w2 = tensor([0.9859])\n",
      "MSE Error = 0.030484532937407494\n",
      "Gradient of w0: tensor([-0.0619]) \n",
      "Gradient of w1: tensor([0.0271])\n",
      "Gradient of w1: tensor([-0.0023])\n",
      "Step 60000:\n",
      "w0 = tensor([1.7020]) w1 = tensor([-0.8798]) w2 = tensor([0.9898])\n",
      "MSE Error = 0.024226026609539986\n",
      "Gradient of w0: tensor([-0.0412]) \n",
      "Gradient of w1: tensor([0.0181])\n",
      "Gradient of w1: tensor([-0.0015])\n",
      "Step 80000:\n",
      "w0 = tensor([1.7696]) w1 = tensor([-0.9094]) w2 = tensor([0.9924])\n",
      "MSE Error = 0.021457994356751442\n",
      "Gradient of w0: tensor([-0.0274]) \n",
      "Gradient of w1: tensor([0.0120])\n",
      "Gradient of w1: tensor([-0.0008])\n",
      "Step 100000:\n",
      "w0 = tensor([1.8146]) w1 = tensor([-0.9291]) w2 = tensor([0.9941])\n",
      "MSE Error = 0.020232772454619408\n",
      "Gradient of w0: tensor([-0.0182]) \n",
      "Gradient of w1: tensor([0.0080])\n",
      "Gradient of w1: tensor([-0.0007])\n",
      "Step 120000:\n",
      "w0 = tensor([1.8444]) w1 = tensor([-0.9421]) w2 = tensor([0.9953])\n",
      "MSE Error = 0.019691618159413338\n",
      "Gradient of w0: tensor([-0.0121]) \n",
      "Gradient of w1: tensor([0.0054])\n",
      "Gradient of w1: tensor([-0.0003])\n",
      "Step 140000:\n",
      "w0 = tensor([1.8643]) w1 = tensor([-0.9508]) w2 = tensor([0.9960])\n",
      "MSE Error = 0.019450880587100983\n",
      "Gradient of w0: tensor([-0.0081]) \n",
      "Gradient of w1: tensor([0.0036])\n",
      "Gradient of w1: tensor([-0.0004])\n",
      "Step 160000:\n",
      "w0 = tensor([1.8775]) w1 = tensor([-0.9566]) w2 = tensor([0.9965])\n",
      "MSE Error = 0.019344843924045563\n",
      "Gradient of w0: tensor([-0.0053]) \n",
      "Gradient of w1: tensor([0.0026])\n",
      "Gradient of w1: tensor([-0.0002])\n",
      "Step 180000:\n",
      "w0 = tensor([1.8861]) w1 = tensor([-0.9604]) w2 = tensor([0.9969])\n",
      "MSE Error = 0.019298240542411804\n",
      "Gradient of w0: tensor([-0.0037]) \n",
      "Gradient of w1: tensor([0.0015])\n",
      "Gradient of w1: tensor([-0.0003])\n"
     ]
    },
    {
     "data": {
      "image/png": "[encoded data removed]",
      "text/plain": [
       "<Figure size 640x480 with 4 Axes>"
      ]
     },
     "metadata": {},
     "output_type": "display_data"
    }
   ],
   "source": [
    "# Try quadratic model architecture:\n",
    "# y_pred = w0 + w1*x + w2*x^2\n",
    "w0 = torch.randn(1, requires_grad=True)\n",
    "w1 = torch.randn(1, requires_grad=True)\n",
    "w2 = torch.randn(1, requires_grad=True)\n",
    "params = [w0, w1, w2]\n",
    "\n",
    "plt.figure()\n",
    "i = 1\n",
    "\n",
    "learning_rate = 1e-4\n",
    "num_steps = 200000\n",
    "plot_steps = [0, 50, 100, 199999]\n",
    "\n",
    "for step in range(num_steps):\n",
    "    # quadratic model architecture:\n",
    "    # y_pred = w0 + w1*x + w2*x^2\n",
    "    y_pred = params[0] + params[1] * x + params[2] * (x**2)\n",
    "\n",
    "    # Periodically plot the true function and\n",
    "    # current approximation to check how we are doing\n",
    "    if step in plot_steps:\n",
    "        draw_subplot(i, step, draw_parabola,\n",
    "                     {\"w0\": 2, \"w1\": -1, \"w2\": 1},\n",
    "                     draw_parabola,\n",
    "                     {\"w0\": params[0].data.numpy()[0],\n",
    "                         \"w1\": params[1].data.numpy()[0],\n",
    "                         \"w2\": params[2].data.numpy()[0],\n",
    "                      \"color\": \"blue\",\n",
    "                      \"label\": \"y_pred=%0.2f+%0.2fx+%0.2fx^2\"\n",
    "                      % (params[0].data.numpy()[0],\n",
    "                         params[1].data.numpy()[0],\n",
    "                         params[2].data.numpy()[0])}\n",
    "                     )\n",
    "        i += 1\n",
    "\n",
    "    # Mean Squared Error (M.S.E)\n",
    "    # i.e (y_pred - y_obs)^2\n",
    "    mean_squared_error = torch.mean((y_pred -\n",
    "                                     y_obs) ** 2)\n",
    "\n",
    "    # Back propogate. Computes the partial derivative\n",
    "    # of error with respect to each variable and stores it\n",
    "    # within the grad field of the variable.\n",
    "    mean_squared_error.backward()\n",
    "    if step % 20000 == 0:\n",
    "        print(\"Step {}:\\nw0 = {} w1 = {} w2 = {}\\n\"\n",
    "              \"MSE Error = {}\"\n",
    "              .format(step, params[0].data, params[1].data,\n",
    "                      params[2].data, mean_squared_error))\n",
    "        print(\"Gradient of w0: {} \\nGradient of w1: {}\\n\"\n",
    "              \"Gradient of w1: {}\"\n",
    "              .format(params[0].grad, params[1].grad,\n",
    "                      params[2].grad))\n",
    "\n",
    "    # Crucial step, adjust the parameters (weights and bias)\n",
    "    # using the gradients (partial derivatives) computed during\n",
    "    # the call to backward() above\n",
    "    update_parameters(params, learning_rate)"
   ]
  },
  {
   "cell_type": "markdown",
   "metadata": {},
   "source": [
    "# example of using torch for learning"
   ]
  },
  {
   "cell_type": "code",
   "execution_count": 23,
   "metadata": {},
   "outputs": [
    {
     "data": {
      "text/plain": [
       "tensor([[0.1100, 0.0900, 1.0000],\n",
       "        [0.0100, 0.0200, 1.0000],\n",
       "        [0.9800, 0.9100, 1.0000],\n",
       "        [0.1200, 0.2100, 1.0000],\n",
       "        [0.9800, 0.9900, 1.0000],\n",
       "        [0.8500, 0.8700, 1.0000],\n",
       "        [0.0300, 0.1400, 1.0000],\n",
       "        [0.5500, 0.4500, 1.0000],\n",
       "        [0.4900, 0.5100, 1.0000],\n",
       "        [0.9900, 0.0100, 1.0000],\n",
       "        [0.0200, 0.8900, 1.0000],\n",
       "        [0.3100, 0.4700, 1.0000],\n",
       "        [0.5500, 0.2900, 1.0000],\n",
       "        [0.8700, 0.7600, 1.0000],\n",
       "        [0.6300, 0.2400, 1.0000]])"
      ]
     },
     "execution_count": 23,
     "metadata": {},
     "output_type": "execute_result"
    }
   ],
   "source": [
    "X = torch.tensor([[0.11, 0.09], [0.01, 0.02], [0.98, 0.91],\n",
    "              [0.12, 0.21], [0.98, 0.99], [0.85, 0.87],\n",
    "              [0.03, 0.14], [0.55, 0.45], [0.49, 0.51], \n",
    "              [0.99, 0.01], [0.02, 0.89], [0.31, 0.47],\n",
    "              [0.55, 0.29], [0.87, 0.76], [0.63, 0.24]], dtype=torch.float)\n",
    "\n",
    "X = torch.column_stack((X, torch.ones(15))) \n",
    "\n",
    "X"
   ]
  },
  {
   "cell_type": "code",
   "execution_count": 26,
   "metadata": {},
   "outputs": [
    {
     "data": {
      "text/plain": [
       "tensor([-0.8000, -0.9700,  0.8900, -0.6700,  0.9700,  0.7200, -0.8300,  0.0000,\n",
       "         0.0000,  0.0000, -0.0900, -0.2200, -0.1600,  0.6300,  0.3700])"
      ]
     },
     "execution_count": 26,
     "metadata": {},
     "output_type": "execute_result"
    }
   ],
   "source": [
    "y = torch.tensor([-0.8, -0.97, 0.89, -0.67, 0.97, 0.72,\n",
    "              -0.83, 0.00, 0.00, 0.00, -0.09, -0.22, \n",
    "              -0.16, 0.63, 0.37], dtype=torch.float)\n",
    "\n",
    "y"
   ]
  },
  {
   "cell_type": "code",
   "execution_count": 27,
   "metadata": {},
   "outputs": [
    {
     "name": "stdout",
     "output_type": "stream",
     "text": [
      "Solution via pseudo inverse: tensor([ 1.0766,  0.8976, -0.9582])\n"
     ]
    }
   ],
   "source": [
    "solution_pseudo = torch.matmul(torch.matmul(\n",
    "    torch.linalg.inv(torch.matmul(X.T, X)), X.T), y)\n",
    "print(\"Solution via pseudo inverse: {}\".format(solution_pseudo))"
   ]
  },
  {
   "cell_type": "code",
   "execution_count": 28,
   "metadata": {},
   "outputs": [
    {
     "data": {
      "text/plain": [
       "tensor([[-0.8000],\n",
       "        [-0.9700],\n",
       "        [ 0.8900],\n",
       "        [-0.6700],\n",
       "        [ 0.9700],\n",
       "        [ 0.7200],\n",
       "        [-0.8300],\n",
       "        [ 0.0000],\n",
       "        [ 0.0000],\n",
       "        [ 0.0000],\n",
       "        [-0.0900],\n",
       "        [-0.2200],\n",
       "        [-0.1600],\n",
       "        [ 0.6300],\n",
       "        [ 0.3700]])"
      ]
     },
     "execution_count": 28,
     "metadata": {},
     "output_type": "execute_result"
    }
   ],
   "source": [
    "y = y.reshape((-1, 1))\n",
    "y"
   ]
  },
  {
   "cell_type": "code",
   "execution_count": 29,
   "metadata": {},
   "outputs": [],
   "source": [
    "# Let us define the torch module\n",
    "class LinearModel(torch.nn.Module):\n",
    "    def __init__(self, num_features):\n",
    "        super(LinearModel, self).__init__()\n",
    "        self.w = torch.nn.Parameter(\n",
    "            torch.randn(num_features, 1))\n",
    "    \n",
    "    def forward(self, X):\n",
    "        \"\"\"\n",
    "        In the forward function we accept a Tensor of input data \n",
    "        and we must return a Tensor of output data. \n",
    "        We can use Modules defined in the constructor as\n",
    "        well as arbitrary operators on Tensors.\n",
    "        \"\"\"\n",
    "        y_pred  = torch.mm(X, self.w) # Computes Xw\n",
    "        return y_pred"
   ]
  },
  {
   "cell_type": "code",
   "execution_count": 30,
   "metadata": {},
   "outputs": [],
   "source": [
    "num_unknowns = 3\n",
    "model =  LinearModel(num_features=num_unknowns)"
   ]
  },
  {
   "cell_type": "code",
   "execution_count": 31,
   "metadata": {},
   "outputs": [],
   "source": [
    "# Let us use  Pytorch MSE loss function\n",
    "loss_fn = torch.nn.MSELoss(reduction='sum')\n",
    "optimizer = torch.optim.SGD(model.parameters(), lr=1e-2)"
   ]
  },
  {
   "cell_type": "code",
   "execution_count": 32,
   "metadata": {},
   "outputs": [
    {
     "name": "stdout",
     "output_type": "stream",
     "text": [
      "Loss at step 0: 4.312058448791504\n",
      "Loss at step 100: 0.24243079125881195\n",
      "Loss at step 200: 0.21768641471862793\n",
      "Loss at step 300: 0.21724480390548706\n",
      "Loss at step 400: 0.21723631024360657\n",
      "Loss at step 500: 0.21723616123199463\n",
      "Loss at step 600: 0.21723614633083344\n",
      "Loss at step 700: 0.21723619103431702\n",
      "Loss at step 800: 0.21723619103431702\n",
      "Loss at step 900: 0.21723619103431702\n"
     ]
    }
   ],
   "source": [
    "# Train model iteratively\n",
    "num_steps = 1000\n",
    "for step in range(num_steps):\n",
    "    y_pred = model(X)\n",
    "    loss = loss_fn(y_pred, y)\n",
    "    if step % 100 == 0:\n",
    "        print(\"Loss at step {}: {}\".format(step, loss))\n",
    "    \n",
    "    # Zero the gradients before running the backward pass.\n",
    "    optimizer.zero_grad()\n",
    "    # Compute the gradients for this step\n",
    "    loss.backward()\n",
    "    # Gradient descent\n",
    "    optimizer.step()"
   ]
  },
  {
   "cell_type": "code",
   "execution_count": 33,
   "metadata": {},
   "outputs": [
    {
     "name": "stdout",
     "output_type": "stream",
     "text": [
      "The solution via gradient descent is tensor([ 1.0766,  0.8976, -0.9582])\n"
     ]
    }
   ],
   "source": [
    "solution_gd = torch.squeeze(model.w.data)\n",
    "print(\"The solution via gradient descent is {}\".format(solution_gd))\n",
    "\n",
    "assert torch.allclose(solution_pseudo, solution_gd)"
   ]
  },
  {
   "cell_type": "code",
   "execution_count": null,
   "metadata": {},
   "outputs": [],
   "source": []
  }
 ],
 "metadata": {
  "kernelspec": {
   "display_name": "base",
   "language": "python",
   "name": "python3"
  },
  "language_info": {
   "codemirror_mode": {
    "name": "ipython",
    "version": 3
   },
   "file_extension": ".py",
   "mimetype": "text/x-python",
   "name": "python",
   "nbconvert_exporter": "python",
   "pygments_lexer": "ipython3",
   "version": "3.11.3"
  }
 },
 "nbformat": 4,
 "nbformat_minor": 2
}
