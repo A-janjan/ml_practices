{
  "nbformat": 4,
  "nbformat_minor": 0,
  "metadata": {
    "colab": {
      "provenance": []
    },
    "kernelspec": {
      "name": "python3",
      "display_name": "Python 3"
    },
    "language_info": {
      "name": "python"
    }
  },
  "cells": [
    {
      "cell_type": "markdown",
      "source": [
        "# AdaGrad"
      ],
      "metadata": {
        "id": "CfXVBD4xXjUN"
      }
    },
    {
      "cell_type": "code",
      "execution_count": 1,
      "metadata": {
        "id": "wa5glp_jn6le"
      },
      "outputs": [],
      "source": [
        "import numpy as np"
      ]
    },
    {
      "cell_type": "code",
      "source": [
        "class AdaGradOptimizer:\n",
        "  def __init__(self, learning_rate=0.01, epsilon=1e-8):\n",
        "    self.learning_rate = learning_rate\n",
        "    self.epsilon = epsilon\n",
        "    self.G = None   # sum of squared gradients\n",
        "\n",
        "  def update(self, params, grads):\n",
        "    if self.G is None:\n",
        "      self.G = np.zeros_like(params)\n",
        "\n",
        "    self.G += grads ** 2\n",
        "    adjusted_lr = self.learning_rate / (np.sqrt(self.G) + self.epsilon)\n",
        "    params -= adjusted_lr * grads\n",
        "    return params"
      ],
      "metadata": {
        "id": "2tEixO0GoCiO"
      },
      "execution_count": 2,
      "outputs": []
    },
    {
      "cell_type": "code",
      "source": [
        "# Example usage:\n",
        "params = np.array([1.0, 2.0])  # Initial parameters\n",
        "grads = np.array([0.1, 0.2])  # Example gradients\n",
        "\n",
        "optimizer = AdaGradOptimizer(learning_rate=0.1)\n",
        "params = optimizer.update(params, grads)\n",
        "print(\"Updated parameters:\", params)"
      ],
      "metadata": {
        "colab": {
          "base_uri": "https://localhost:8080/"
        },
        "id": "jSGJs9ibqOEo",
        "outputId": "ab1c2b06-2e74-46a7-c9f2-1c693466501e"
      },
      "execution_count": 3,
      "outputs": [
        {
          "output_type": "stream",
          "name": "stdout",
          "text": [
            "Updated parameters: [0.90000001 1.9       ]\n"
          ]
        }
      ]
    },
    {
      "cell_type": "markdown",
      "source": [
        "# AdaDelta"
      ],
      "metadata": {
        "id": "hNFjqIjlXl-n"
      }
    },
    {
      "cell_type": "code",
      "source": [
        "import numpy as np\n",
        "\n",
        "class AdaDeltaOptimizer:\n",
        "  def __init__(self, rho=0.95, epsilon=1e-6):\n",
        "    self.rho = rho\n",
        "    self.epsilon = epsilon\n",
        "    self.E_g2 = None\n",
        "    self.E_delta_theta2 = None\n",
        "\n",
        "  def update(self, params, grads):\n",
        "    if self.E_g2 is None:\n",
        "      self.E_g2 = np.zeros_like(params)\n",
        "      self.E_delta_theta2 = np.zeros_like(params)\n",
        "\n",
        "    self.E_g2 = self.rho * self.E_g2 + (1-self.rho) * params ** 2\n",
        "    delta_theta = -np.sqrt(self.E_delta_theta2 + self.epsilon)/np.sqrt(self.E_g2 + self.epsilon) * grads\n",
        "\n",
        "    self.E_delta_theta2 = self.rho * self.E_delta_theta2 + (1-self.rho) * delta_theta ** 2\n",
        "\n",
        "    params += delta_theta\n",
        "    return params"
      ],
      "metadata": {
        "id": "j0RYicLpqOxE"
      },
      "execution_count": 4,
      "outputs": []
    },
    {
      "cell_type": "code",
      "source": [
        "# Example usage:\n",
        "params = np.array([1.0, 2.0])  # Initial parameters\n",
        "grads = np.array([0.1, 0.2])  # Example gradients\n",
        "\n",
        "optimizer = AdaDeltaOptimizer(rho=0.95)\n",
        "params = optimizer.update(params, grads)\n",
        "print(\"Updated parameters:\", params)"
      ],
      "metadata": {
        "colab": {
          "base_uri": "https://localhost:8080/"
        },
        "id": "2nAvQadObLdx",
        "outputId": "5bce20b6-ed66-45fa-aea7-3bff7604c612"
      },
      "execution_count": 5,
      "outputs": [
        {
          "output_type": "stream",
          "name": "stdout",
          "text": [
            "Updated parameters: [0.99955279 1.99955279]\n"
          ]
        }
      ]
    },
    {
      "cell_type": "markdown",
      "source": [
        "# Exploring the PyTorch library in contrast to TensorFlow"
      ],
      "metadata": {
        "id": "lUyV0rQdgg8p"
      }
    },
    {
      "cell_type": "code",
      "source": [
        "import torch\n",
        "\n",
        "points = torch.tensor([1.0, 2.0, 4.6, 8.9, 10.12])"
      ],
      "metadata": {
        "id": "r5STBuVXbPPW"
      },
      "execution_count": 6,
      "outputs": []
    },
    {
      "cell_type": "code",
      "source": [
        "points.shape"
      ],
      "metadata": {
        "colab": {
          "base_uri": "https://localhost:8080/"
        },
        "id": "yxEJqrhLgr9U",
        "outputId": "6973277a-d00c-41c8-8ef8-86778be049d3"
      },
      "execution_count": 7,
      "outputs": [
        {
          "output_type": "execute_result",
          "data": {
            "text/plain": [
              "torch.Size([5])"
            ]
          },
          "metadata": {},
          "execution_count": 7
        }
      ]
    },
    {
      "cell_type": "code",
      "source": [
        "points.storage()"
      ],
      "metadata": {
        "colab": {
          "base_uri": "https://localhost:8080/"
        },
        "id": "FZznyV-sgxwd",
        "outputId": "5ab78632-82b6-4607-b8bd-5ded4b37e852"
      },
      "execution_count": 8,
      "outputs": [
        {
          "output_type": "stream",
          "name": "stderr",
          "text": [
            "<ipython-input-8-2c8c1a84fa09>:1: UserWarning: TypedStorage is deprecated. It will be removed in the future and UntypedStorage will be the only storage class. This should only matter to you if you are using storages directly.  To access UntypedStorage directly, use tensor.untyped_storage() instead of tensor.storage()\n",
            "  points.storage()\n"
          ]
        },
        {
          "output_type": "execute_result",
          "data": {
            "text/plain": [
              " 1.0\n",
              " 2.0\n",
              " 4.599999904632568\n",
              " 8.899999618530273\n",
              " 10.119999885559082\n",
              "[torch.storage.TypedStorage(dtype=torch.float32, device=cpu) of size 5]"
            ]
          },
          "metadata": {},
          "execution_count": 8
        }
      ]
    },
    {
      "cell_type": "code",
      "source": [
        "# usage of storage_offset\n",
        "\n",
        "\n",
        "base_tensor = torch.arange(10)\n",
        "base_tensor"
      ],
      "metadata": {
        "colab": {
          "base_uri": "https://localhost:8080/"
        },
        "id": "8iwJLDWshA7_",
        "outputId": "b83cd9c8-5ac9-4ca7-f86d-ba72b7dbdab2"
      },
      "execution_count": 9,
      "outputs": [
        {
          "output_type": "execute_result",
          "data": {
            "text/plain": [
              "tensor([0, 1, 2, 3, 4, 5, 6, 7, 8, 9])"
            ]
          },
          "metadata": {},
          "execution_count": 9
        }
      ]
    },
    {
      "cell_type": "code",
      "source": [
        "slice_tensor = base_tensor[3:]"
      ],
      "metadata": {
        "id": "bKCbSar9hOM-"
      },
      "execution_count": 10,
      "outputs": []
    },
    {
      "cell_type": "code",
      "source": [
        "# Check storage offsets\n",
        "print(\"Base Tensor Storage Offset:\", base_tensor.storage_offset())\n",
        "print(\"Slice Tensor Storage Offset:\", slice_tensor.storage_offset())"
      ],
      "metadata": {
        "colab": {
          "base_uri": "https://localhost:8080/"
        },
        "id": "917jpC7niPck",
        "outputId": "dc100c7c-e06c-46fe-edcf-116eb135f7ee"
      },
      "execution_count": 11,
      "outputs": [
        {
          "output_type": "stream",
          "name": "stdout",
          "text": [
            "Base Tensor Storage Offset: 0\n",
            "Slice Tensor Storage Offset: 3\n"
          ]
        }
      ]
    },
    {
      "cell_type": "code",
      "source": [
        "# STRIDE\n",
        "\n",
        "tensor = torch.tensor([[1, 2, 3],\n",
        "                       [4, 5, 6]])"
      ],
      "metadata": {
        "id": "ie0jan6yiTD9"
      },
      "execution_count": 12,
      "outputs": []
    },
    {
      "cell_type": "code",
      "source": [
        "tensor.shape"
      ],
      "metadata": {
        "colab": {
          "base_uri": "https://localhost:8080/"
        },
        "id": "_3rchlZZiWiL",
        "outputId": "165ebf9f-c61a-442b-9fbe-1820f58b384a"
      },
      "execution_count": 13,
      "outputs": [
        {
          "output_type": "execute_result",
          "data": {
            "text/plain": [
              "torch.Size([2, 3])"
            ]
          },
          "metadata": {},
          "execution_count": 13
        }
      ]
    },
    {
      "cell_type": "code",
      "source": [
        "tensor.stride()"
      ],
      "metadata": {
        "colab": {
          "base_uri": "https://localhost:8080/"
        },
        "id": "V-mEhZrQI2G-",
        "outputId": "bf7a779e-4dec-46b1-ae4d-c57f3c0aabc0"
      },
      "execution_count": 14,
      "outputs": [
        {
          "output_type": "execute_result",
          "data": {
            "text/plain": [
              "(3, 1)"
            ]
          },
          "metadata": {},
          "execution_count": 14
        }
      ]
    },
    {
      "cell_type": "markdown",
      "source": [
        "Stride (3, 1) means:\n",
        "Moving along dimension 0 (rows) requires jumping 3 elements (because it's row-major storage).\n",
        "Moving along dimension 1 (columns) requires jumping 1 element (adjacent elements in a row).\n"
      ],
      "metadata": {
        "id": "9EbzCzs8JAgp"
      }
    },
    {
      "cell_type": "markdown",
      "source": [
        "## PyTorch Modules"
      ],
      "metadata": {
        "id": "rYXJja7nJYJu"
      }
    },
    {
      "cell_type": "code",
      "source": [
        "# torch.nn\n",
        "\n",
        "import torch.nn as nn\n",
        "\n",
        "class SimpleNN(nn.Module):\n",
        "  def __init__(self):\n",
        "    super(SimpleNN, self).__init__()\n",
        "    self.fc1 = nn.Linear(4, 16)\n",
        "    self.relu = nn.ReLU()\n",
        "    self.fc2 = nn.Linear(16, 3)\n",
        "\n",
        "  def forward(self, x):\n",
        "    x = self.fc1(x)\n",
        "    x = self.relu(x)\n",
        "    x = self.fc2(x)\n",
        "    return x"
      ],
      "metadata": {
        "id": "e4AxTXxnI5yW"
      },
      "execution_count": 15,
      "outputs": []
    },
    {
      "cell_type": "code",
      "source": [
        "model = SimpleNN()\n",
        "print(model)"
      ],
      "metadata": {
        "colab": {
          "base_uri": "https://localhost:8080/"
        },
        "id": "svAxkHusJvZo",
        "outputId": "9e0c1a73-9dfc-4d33-d168-8497739600de"
      },
      "execution_count": 16,
      "outputs": [
        {
          "output_type": "stream",
          "name": "stdout",
          "text": [
            "SimpleNN(\n",
            "  (fc1): Linear(in_features=4, out_features=16, bias=True)\n",
            "  (relu): ReLU()\n",
            "  (fc2): Linear(in_features=16, out_features=3, bias=True)\n",
            ")\n"
          ]
        }
      ]
    },
    {
      "cell_type": "code",
      "source": [
        "# torch.optim\n",
        "\n",
        "import torch.optim as optim\n",
        "\n",
        "model = nn.Linear(10, 2)\n",
        "\n",
        "lr = 0.01\n",
        "opt = optim.SGD(model.parameters(), lr=lr)\n",
        "\n",
        "criterion = nn.MSELoss()\n",
        "\n",
        "x = torch.randn(5, 10)   # Batch of 5 samples, 10 features each\n",
        "y = torch.randn(5, 2)    # Target values\n",
        "\n",
        "predictions = model(x)\n",
        "\n",
        "loss = criterion(predictions, y)\n",
        "\n",
        "opt.zero_grad() # Reset previous gradients\n",
        "loss.backward()\n",
        "opt.step()"
      ],
      "metadata": {
        "id": "ltnkAQKMN90Y"
      },
      "execution_count": 18,
      "outputs": []
    },
    {
      "cell_type": "code",
      "source": [
        "# torch.utils.data"
      ],
      "metadata": {
        "id": "sRDKg8e0m1fO"
      },
      "execution_count": 19,
      "outputs": []
    },
    {
      "cell_type": "code",
      "source": [
        "# dataset\n",
        "import torch\n",
        "from torch.utils.data import Dataset\n",
        "\n",
        "class SampleDataset(Dataset):\n",
        "  def __init__(self):\n",
        "    self.data = torch.arange(10)\n",
        "\n",
        "  def __len__(self):\n",
        "    return len(self.data)\n",
        "\n",
        "  def __getitem__(self, idx):\n",
        "    return self.data[idx]\n",
        "\n",
        "\n",
        "dataset = SampleDataset()\n",
        "\n",
        "print(len(dataset))\n",
        "\n",
        "print(dataset[3])"
      ],
      "metadata": {
        "colab": {
          "base_uri": "https://localhost:8080/"
        },
        "id": "GWO9bhWY_Ioi",
        "outputId": "35009cb0-a476-4f17-9de8-ad7a831839d5"
      },
      "execution_count": 20,
      "outputs": [
        {
          "output_type": "stream",
          "name": "stdout",
          "text": [
            "10\n",
            "tensor(3)\n"
          ]
        }
      ]
    },
    {
      "cell_type": "code",
      "source": [
        "# DataLoader\n",
        "\n",
        "from torch.utils.data import DataLoader\n",
        "\n",
        "dataloader = DataLoader(dataset, batch_size=3, shuffle=True)\n",
        "\n",
        "\n",
        "for batch in dataloader:\n",
        "  print(batch)"
      ],
      "metadata": {
        "colab": {
          "base_uri": "https://localhost:8080/"
        },
        "id": "iZH-Ck-l_tJ0",
        "outputId": "8dbd1b32-98de-4260-e5d9-42aff382f0a8"
      },
      "execution_count": 22,
      "outputs": [
        {
          "output_type": "stream",
          "name": "stdout",
          "text": [
            "tensor([5, 3, 7])\n",
            "tensor([8, 6, 2])\n",
            "tensor([4, 1, 0])\n",
            "tensor([9])\n"
          ]
        }
      ]
    },
    {
      "cell_type": "code",
      "source": [
        "# TensorDataset\n",
        "\n",
        "from torch.utils.data import TensorDataset\n",
        "\n",
        "X = torch.arange(10).float().reshape(-1, 1)\n",
        "y = (X > 5).float() # Labels\n",
        "\n",
        "dataset = TensorDataset(X, y)\n",
        "\n",
        "dataloader = DataLoader(dataset, batch_size=2, shuffle=True)\n",
        "\n",
        "for batch in dataloader:\n",
        "  print(batch)"
      ],
      "metadata": {
        "colab": {
          "base_uri": "https://localhost:8080/"
        },
        "id": "uFcLS7S9AMXs",
        "outputId": "4ed63bc0-1dfd-4e6b-f8f1-dd057213fbcd"
      },
      "execution_count": 28,
      "outputs": [
        {
          "output_type": "stream",
          "name": "stdout",
          "text": [
            "[tensor([[1.],\n",
            "        [3.]]), tensor([[0.],\n",
            "        [0.]])]\n",
            "[tensor([[0.],\n",
            "        [4.]]), tensor([[0.],\n",
            "        [0.]])]\n",
            "[tensor([[2.],\n",
            "        [9.]]), tensor([[0.],\n",
            "        [1.]])]\n",
            "[tensor([[8.],\n",
            "        [5.]]), tensor([[1.],\n",
            "        [0.]])]\n",
            "[tensor([[6.],\n",
            "        [7.]]), tensor([[1.],\n",
            "        [1.]])]\n"
          ]
        }
      ]
    },
    {
      "cell_type": "code",
      "source": [
        "# subset\n",
        "\n",
        "from torch.utils.data import Subset\n",
        "\n",
        "subset = Subset(dataset, indices=[0, 2, 4])\n",
        "dl = DataLoader(subset)"
      ],
      "metadata": {
        "id": "OMGwoguZA6_q"
      },
      "execution_count": 30,
      "outputs": []
    },
    {
      "cell_type": "code",
      "source": [
        "for x in dl:\n",
        "  print(x)"
      ],
      "metadata": {
        "colab": {
          "base_uri": "https://localhost:8080/"
        },
        "id": "LbXvm83YBf0Q",
        "outputId": "ecbf2b95-7908-49fd-e749-c5c4196dcfd6"
      },
      "execution_count": 33,
      "outputs": [
        {
          "output_type": "stream",
          "name": "stdout",
          "text": [
            "[tensor([[0.]]), tensor([[0.]])]\n",
            "[tensor([[2.]]), tensor([[0.]])]\n",
            "[tensor([[4.]]), tensor([[0.]])]\n"
          ]
        }
      ]
    },
    {
      "cell_type": "code",
      "source": [
        "# RandomSampler\n",
        "\n",
        "from torch.utils.data import RandomSampler\n",
        "\n",
        "sampler = RandomSampler(dataset, replacement=True, num_samples=5)\n",
        "dataloader = DataLoader(dataset, batch_size=2, sampler=sampler)\n",
        "\n",
        "for z in dataloader:\n",
        "  print(z)"
      ],
      "metadata": {
        "colab": {
          "base_uri": "https://localhost:8080/"
        },
        "id": "kHZ_wzpADvLz",
        "outputId": "8bb69668-6523-4e5d-acb1-8aa76fa522a4"
      },
      "execution_count": 35,
      "outputs": [
        {
          "output_type": "stream",
          "name": "stdout",
          "text": [
            "[tensor([[3.],\n",
            "        [2.]]), tensor([[0.],\n",
            "        [0.]])]\n",
            "[tensor([[6.],\n",
            "        [6.]]), tensor([[1.],\n",
            "        [1.]])]\n",
            "[tensor([[0.]]), tensor([[0.]])]\n"
          ]
        }
      ]
    },
    {
      "cell_type": "code",
      "source": [],
      "metadata": {
        "id": "Gr4XDgwnEjJ_"
      },
      "execution_count": null,
      "outputs": []
    }
  ]
}