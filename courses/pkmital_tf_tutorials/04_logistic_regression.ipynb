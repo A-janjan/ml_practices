{
 "cells": [
  {
   "cell_type": "code",
   "execution_count": 7,
   "id": "6a462de4",
   "metadata": {},
   "outputs": [],
   "source": [
    "import numpy as np\n",
    "import tensorflow as tf\n",
    "import matplotlib.pyplot as plt"
   ]
  },
  {
   "cell_type": "code",
   "execution_count": 8,
   "id": "737728fb",
   "metadata": {},
   "outputs": [],
   "source": [
    "mnist = tf.keras.datasets.mnist"
   ]
  },
  {
   "cell_type": "code",
   "execution_count": 12,
   "id": "388ee620",
   "metadata": {},
   "outputs": [],
   "source": [
    "(x_train, y_train),(x_test, y_test) = mnist.load_data()"
   ]
  },
  {
   "cell_type": "code",
   "execution_count": 13,
   "id": "19971c78",
   "metadata": {},
   "outputs": [],
   "source": [
    "# normalizing\n",
    "x_train, x_test = x_train/255.0 , x_test/255.0"
   ]
  },
  {
   "cell_type": "code",
   "execution_count": 16,
   "id": "c07c790e",
   "metadata": {},
   "outputs": [],
   "source": [
    "# one-hot encoding\n",
    "\n",
    "y_train = tf.keras.utils.to_categorical(y_train, 10)\n",
    "y_test = tf.keras.utils.to_categorical(y_test, 10)"
   ]
  },
  {
   "cell_type": "code",
   "execution_count": 17,
   "id": "fd84cd65",
   "metadata": {},
   "outputs": [
    {
     "name": "stdout",
     "output_type": "stream",
     "text": [
      "x_train length:  60000 \n",
      "x_test length:  10000\n",
      "x_train shape:  (60000, 28, 28) \n",
      "y_train shape (60000, 10)\n",
      "min val in x_train:  0.0 \n",
      "max val in x_train 1.0\n"
     ]
    }
   ],
   "source": [
    "# display dataset info\n",
    "\n",
    "print(\"x_train length: \",len(x_train),\"\\nx_test length: \", len(x_test))\n",
    "print(\"x_train shape: \",x_train.shape, \"\\ny_train shape\", y_train.shape)\n",
    "print(\"min val in x_train: \",np.min(x_train), \"\\nmax val in x_train\",np.max(x_train))\n"
   ]
  },
  {
   "cell_type": "code",
   "execution_count": 18,
   "id": "06b16154",
   "metadata": {},
   "outputs": [
    {
     "data": {
      "text/plain": [
       "<matplotlib.image.AxesImage at 0x7fdb1550ab90>"
      ]
     },
     "execution_count": 18,
     "metadata": {},
     "output_type": "execute_result"
    },
    {
     "data": {
      "image/png": "[encoded data removed]",
      "text/plain": [
       "<Figure size 640x480 with 1 Axes>"
      ]
     },
     "metadata": {},
     "output_type": "display_data"
    }
   ],
   "source": [
    "plt.imshow(x_train[100], cmap='gray')"
   ]
  },
  {
   "cell_type": "code",
   "execution_count": 21,
   "id": "c66d0a54",
   "metadata": {},
   "outputs": [],
   "source": [
    "# define the model parameters\n",
    "\n",
    "n_output = 10\n",
    "\n",
    "model = tf.keras.Sequential([\n",
    "    tf.keras.layers.Flatten(input_shape=(28,28)),\n",
    "    tf.keras.layers.Dense(n_output, activation='softmax')\n",
    "])"
   ]
  },
  {
   "cell_type": "code",
   "execution_count": 22,
   "id": "15d68671",
   "metadata": {},
   "outputs": [],
   "source": [
    "# compile the model\n",
    "\n",
    "model.compile(optimizer=tf.keras.optimizers.SGD(learning_rate=0.01),\n",
    "              loss='categorical_crossentropy',metrics=['accuracy'])"
   ]
  },
  {
   "cell_type": "code",
   "execution_count": 23,
   "id": "abff5fba",
   "metadata": {},
   "outputs": [
    {
     "name": "stdout",
     "output_type": "stream",
     "text": [
      "Epoch 1/10\n",
      " 59/540 [==>...........................] - ETA: 0s - loss: 2.0613 - accuracy: 0.3156"
     ]
    },
    {
     "name": "stderr",
     "output_type": "stream",
     "text": [
      "2024-05-30 16:07:40.656655: I tensorflow/compiler/xla/service/service.cc:168] XLA service 0x1d5153c0 initialized for platform CUDA (this does not guarantee that XLA will be used). Devices:\n",
      "2024-05-30 16:07:40.656679: I tensorflow/compiler/xla/service/service.cc:176]   StreamExecutor device (0): Quadro P620, Compute Capability 6.1\n",
      "2024-05-30 16:07:40.663087: I tensorflow/compiler/xla/stream_executor/cuda/cuda_dnn.cc:432] Loaded cuDNN version 8904\n",
      "2024-05-30 16:07:40.671781: W tensorflow/compiler/xla/service/gpu/llvm_gpu_backend/gpu_backend_lib.cc:543] Can't find libdevice directory ${CUDA_DIR}/nvvm/libdevice. This may result in compilation or runtime failures, if the program we try to run uses routines from libdevice.\n",
      "Searched for CUDA in the following directories:\n",
      "  ./cuda_sdk_lib\n",
      "  /usr/local/cuda-11.8\n",
      "  /usr/local/cuda\n",
      "  .\n",
      "You can choose the search directory by setting xla_gpu_cuda_data_dir in HloModule's DebugOptions.  For most apps, setting the environment variable XLA_FLAGS=--xla_gpu_cuda_data_dir=/path/to/cuda will work.\n",
      "2024-05-30 16:07:40.708733: I ./tensorflow/compiler/jit/device_compiler.h:186] Compiled cluster using XLA!  This line is logged at most once for the lifetime of the process.\n"
     ]
    },
    {
     "name": "stdout",
     "output_type": "stream",
     "text": [
      "540/540 [==============================] - 2s 2ms/step - loss: 1.2127 - accuracy: 0.7112 - val_loss: 0.7163 - val_accuracy: 0.8682\n",
      "Epoch 2/10\n",
      "540/540 [==============================] - 1s 2ms/step - loss: 0.6849 - accuracy: 0.8436 - val_loss: 0.5275 - val_accuracy: 0.8918\n",
      "Epoch 3/10\n",
      "540/540 [==============================] - 1s 2ms/step - loss: 0.5675 - accuracy: 0.8618 - val_loss: 0.4529 - val_accuracy: 0.8985\n",
      "Epoch 4/10\n",
      "540/540 [==============================] - 1s 2ms/step - loss: 0.5110 - accuracy: 0.8701 - val_loss: 0.4120 - val_accuracy: 0.9038\n",
      "Epoch 5/10\n",
      "540/540 [==============================] - 1s 2ms/step - loss: 0.4764 - accuracy: 0.8767 - val_loss: 0.3859 - val_accuracy: 0.9073\n",
      "Epoch 6/10\n",
      "540/540 [==============================] - 1s 2ms/step - loss: 0.4526 - accuracy: 0.8813 - val_loss: 0.3673 - val_accuracy: 0.9102\n",
      "Epoch 7/10\n",
      "540/540 [==============================] - 1s 2ms/step - loss: 0.4348 - accuracy: 0.8847 - val_loss: 0.3532 - val_accuracy: 0.9110\n",
      "Epoch 8/10\n",
      "540/540 [==============================] - 1s 2ms/step - loss: 0.4210 - accuracy: 0.8877 - val_loss: 0.3425 - val_accuracy: 0.9125\n",
      "Epoch 9/10\n",
      "540/540 [==============================] - 1s 2ms/step - loss: 0.4097 - accuracy: 0.8902 - val_loss: 0.3337 - val_accuracy: 0.9140\n",
      "Epoch 10/10\n",
      "540/540 [==============================] - 1s 2ms/step - loss: 0.4005 - accuracy: 0.8921 - val_loss: 0.3261 - val_accuracy: 0.9162\n"
     ]
    },
    {
     "data": {
      "text/plain": [
       "<keras.src.callbacks.History at 0x7fda683ea310>"
      ]
     },
     "execution_count": 23,
     "metadata": {},
     "output_type": "execute_result"
    }
   ],
   "source": [
    "# train the model\n",
    "\n",
    "n_epochs = 10\n",
    "batch_size = 100\n",
    "\n",
    "\n",
    "model.fit(x_train, y_train, epochs=n_epochs, batch_size=batch_size, validation_split=0.1)"
   ]
  },
  {
   "cell_type": "code",
   "execution_count": 24,
   "id": "ddd2e8fc",
   "metadata": {},
   "outputs": [
    {
     "name": "stdout",
     "output_type": "stream",
     "text": [
      "313/313 [==============================] - 1s 2ms/step - loss: 0.3687 - accuracy: 0.9002\n",
      "test accuracy is:  0.9002000093460083\n",
      "test loss is:  0.36870989203453064\n"
     ]
    }
   ],
   "source": [
    "test_loss, test_accuracy = model.evaluate(x_test, y_test)\n",
    "print(\"test accuracy is: \", test_accuracy)\n",
    "print(\"test loss is: \", test_loss)"
   ]
  },
  {
   "cell_type": "code",
   "execution_count": null,
   "id": "ecfd4d34",
   "metadata": {},
   "outputs": [],
   "source": []
  }
 ],
 "metadata": {
  "kernelspec": {
   "display_name": "Python 3 (ipykernel)",
   "language": "python",
   "name": "python3"
  },
  "language_info": {
   "codemirror_mode": {
    "name": "ipython",
    "version": 3
   },
   "file_extension": ".py",
   "mimetype": "text/x-python",
   "name": "python",
   "nbconvert_exporter": "python",
   "pygments_lexer": "ipython3",
   "version": "3.11.3"
  }
 },
 "nbformat": 4,
 "nbformat_minor": 5
}
