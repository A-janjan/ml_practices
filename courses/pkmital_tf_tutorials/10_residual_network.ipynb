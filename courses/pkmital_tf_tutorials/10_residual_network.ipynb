{
 "cells": [
  {
   "cell_type": "code",
   "execution_count": 1,
   "id": "e8ac39ec",
   "metadata": {},
   "outputs": [
    {
     "name": "stderr",
     "output_type": "stream",
     "text": [
      "2024-05-31 23:04:25.046668: I tensorflow/core/platform/cpu_feature_guard.cc:182] This TensorFlow binary is optimized to use available CPU instructions in performance-critical operations.\n",
      "To enable the following instructions: AVX2 FMA, in other operations, rebuild TensorFlow with the appropriate compiler flags.\n",
      "2024-05-31 23:04:25.630707: W tensorflow/compiler/tf2tensorrt/utils/py_utils.cc:38] TF-TRT Warning: Could not find TensorRT\n"
     ]
    }
   ],
   "source": [
    "import tensorflow as tf\n",
    "from tensorflow.keras import layers, models, datasets\n",
    "from collections import namedtuple\n",
    "import numpy as np"
   ]
  },
  {
   "cell_type": "code",
   "execution_count": 7,
   "id": "f5b9236b",
   "metadata": {},
   "outputs": [],
   "source": [
    "def residual_block(inputs, num_filters, bottleneck_size, activation=tf.nn.relu):\n",
    "    \"\"\"Creates a residual block with bottleneck layers.\"\"\"\n",
    "    shortcut = layers.Conv2D(num_filters, (1, 1), activation=None, padding='valid')(inputs)\n",
    "    x = layers.Conv2D(bottleneck_size, (1, 1), activation=activation, padding='valid')(inputs)\n",
    "    x = layers.Conv2D(bottleneck_size, (3, 3), activation=activation, padding='same')(x)\n",
    "    x = layers.Conv2D(num_filters, (1, 1), activation=None, padding='valid')(x)\n",
    "    x = layers.add([x, shortcut])\n",
    "    x = layers.Activation(activation)(x)\n",
    "    return x"
   ]
  },
  {
   "cell_type": "code",
   "execution_count": 8,
   "id": "90b2eca4",
   "metadata": {},
   "outputs": [],
   "source": [
    "def residual_network(input_shape, n_outputs, activation=tf.nn.relu):\n",
    "    \"\"\"Builds a residual network.\"\"\"\n",
    "    LayerBlock = namedtuple('LayerBlock', ['num_repeats', 'num_filters', 'bottleneck_size'])\n",
    "    blocks = [LayerBlock(3, 128, 32),\n",
    "              LayerBlock(3, 256, 64),\n",
    "              LayerBlock(3, 512, 128),\n",
    "              LayerBlock(3, 1024, 256)]\n",
    "    \n",
    "    inputs = tf.keras.Input(shape=input_shape)\n",
    "    x = layers.Conv2D(64, (7, 7), activation=activation, padding='same', strides=(2, 2))(inputs)\n",
    "    x = layers.MaxPooling2D((3, 3), strides=(2, 2), padding='same')(x)\n",
    "\n",
    "    for block_i, block in enumerate(blocks):\n",
    "        for repeat_i in range(block.num_repeats):\n",
    "            x = residual_block(x, block.num_filters, block.bottleneck_size, activation)\n",
    "        if block_i < len(blocks) - 1:\n",
    "            x = layers.Conv2D(blocks[block_i + 1].num_filters, (1, 1), padding='same', strides=(2, 2), activation=None)(x)\n",
    "    \n",
    "    x = layers.GlobalAveragePooling2D()(x)\n",
    "    outputs = layers.Dense(n_outputs, activation='softmax')(x)\n",
    "    \n",
    "    model = tf.keras.Model(inputs=inputs, outputs=outputs)\n",
    "    return model"
   ]
  },
  {
   "cell_type": "code",
   "execution_count": 9,
   "id": "36401b35",
   "metadata": {},
   "outputs": [],
   "source": [
    "def preprocess_data(x, y):\n",
    "    x = x.reshape((-1, 28, 28, 1)).astype('float32') / 255.0\n",
    "    y = tf.keras.utils.to_categorical(y, 10)\n",
    "    return x, y"
   ]
  },
  {
   "cell_type": "code",
   "execution_count": 10,
   "id": "c5459551",
   "metadata": {},
   "outputs": [],
   "source": [
    "def test_mnist():\n",
    "    \"\"\"Test the resnet on MNIST.\"\"\"\n",
    "    (x_train, y_train), (x_valid, y_valid) = datasets.mnist.load_data()\n",
    "    x_train, y_train = preprocess_data(x_train, y_train)\n",
    "    x_valid, y_valid = preprocess_data(x_valid, y_valid)\n",
    "    \n",
    "    model = residual_network(input_shape=(28, 28, 1), n_outputs=10)\n",
    "    model.compile(optimizer='adam', loss='categorical_crossentropy', metrics=['accuracy'])\n",
    "    \n",
    "    model.fit(x_train, y_train, batch_size=50, epochs=5, validation_data=(x_valid, y_valid))\n",
    "    model.evaluate(x_valid, y_valid, verbose=2)"
   ]
  },
  {
   "cell_type": "code",
   "execution_count": null,
   "id": "e7e56358",
   "metadata": {},
   "outputs": [
    {
     "name": "stdout",
     "output_type": "stream",
     "text": [
      "Epoch 1/5\n",
      "1200/1200 [==============================] - 416s 343ms/step - loss: 0.5331 - accuracy: 0.8206 - val_loss: 0.1415 - val_accuracy: 0.9620\n",
      "Epoch 2/5\n",
      " 259/1200 [=====>........................] - ETA: 5:33 - loss: 0.1774 - accuracy: 0.9537"
     ]
    }
   ],
   "source": [
    "if __name__ == '__main__':\n",
    "    test_mnist()"
   ]
  },
  {
   "cell_type": "code",
   "execution_count": null,
   "id": "750bab47",
   "metadata": {},
   "outputs": [],
   "source": []
  }
 ],
 "metadata": {
  "kernelspec": {
   "display_name": "Python 3 (ipykernel)",
   "language": "python",
   "name": "python3"
  },
  "language_info": {
   "codemirror_mode": {
    "name": "ipython",
    "version": 3
   },
   "file_extension": ".py",
   "mimetype": "text/x-python",
   "name": "python",
   "nbconvert_exporter": "python",
   "pygments_lexer": "ipython3",
   "version": "3.11.3"
  }
 },
 "nbformat": 4,
 "nbformat_minor": 5
}
