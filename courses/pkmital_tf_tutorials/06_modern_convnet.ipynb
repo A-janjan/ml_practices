{
 "cells": [
  {
   "cell_type": "code",
   "execution_count": 1,
   "id": "42ff77e4",
   "metadata": {},
   "outputs": [
    {
     "name": "stderr",
     "output_type": "stream",
     "text": [
      "2024-05-30 18:08:18.744950: I tensorflow/core/platform/cpu_feature_guard.cc:182] This TensorFlow binary is optimized to use available CPU instructions in performance-critical operations.\n",
      "To enable the following instructions: AVX2 FMA, in other operations, rebuild TensorFlow with the appropriate compiler flags.\n",
      "2024-05-30 18:08:19.337588: W tensorflow/compiler/tf2tensorrt/utils/py_utils.cc:38] TF-TRT Warning: Could not find TensorRT\n"
     ]
    }
   ],
   "source": [
    "import tensorflow as tf\n",
    "from tensorflow.keras.layers import Conv2D, Dense, Flatten, BatchNormalization, LeakyReLU\n",
    "from tensorflow.keras.models import Model\n",
    "from tensorflow.keras.optimizers import Adam\n",
    "from tensorflow.keras.losses import CategoricalCrossentropy\n",
    "from tensorflow.keras.metrics import Accuracy"
   ]
  },
  {
   "cell_type": "code",
   "execution_count": 2,
   "id": "d046697c",
   "metadata": {},
   "outputs": [],
   "source": [
    "# loading and normalizing data\n",
    "\n",
    "(x_train, y_train), (x_test, y_test) = tf.keras.datasets.mnist.load_data()\n",
    "x_train, x_test = x_train/255.0, x_test/255.0\n",
    "\n",
    "y_train = tf.keras.utils.to_categorical(y_train, 10)\n",
    "y_test = tf.keras.utils.to_categorical(y_test, 10)"
   ]
  },
  {
   "cell_type": "code",
   "execution_count": 5,
   "id": "983e1073",
   "metadata": {},
   "outputs": [],
   "source": [
    "class CustomModel(Model):\n",
    "    def __init__(self):\n",
    "        super().__init__()\n",
    "        \n",
    "        self.conv1 = Conv2D(32, (3,3), activation=None)\n",
    "        self.bn1 = BatchNormalization()\n",
    "        self.lrelu1 = LeakyReLU()\n",
    "        \n",
    "        self.conv2 = Conv2D(64, (3,3), activation=None)\n",
    "        self.bn2 = BatchNormalization()\n",
    "        self.lrelu2 = LeakyReLU()\n",
    "        \n",
    "        self.conv3 = Conv2D(64, (3,3), activation=None)\n",
    "        self.bn3 = BatchNormalization()\n",
    "        self.lrelu3 = LeakyReLU()\n",
    "        \n",
    "        self.flatten = Flatten()\n",
    "        self.dense = Dense(10, activation='softmax')\n",
    "        \n",
    "    def call(self, x, training=False):\n",
    "        x = tf.reshape(x, [-1, 28, 28, 1])\n",
    "        x = self.conv1(x)\n",
    "        x = self.bn1(x, training=training)\n",
    "        x = self.lrelu1(x)\n",
    "        \n",
    "        x = self.conv2(x)\n",
    "        x = self.bn2(x, training=training)\n",
    "        x = self.lrelu2(x)\n",
    "        \n",
    "        x = self.conv3(x)\n",
    "        x = self.bn3(x, training=training)\n",
    "        x = self.lrelu3(x)\n",
    "        \n",
    "        x = self.flatten(x)\n",
    "        x = self.dense(x)\n",
    "        \n",
    "        return x"
   ]
  },
  {
   "cell_type": "code",
   "execution_count": 6,
   "id": "03ecd825",
   "metadata": {},
   "outputs": [
    {
     "name": "stderr",
     "output_type": "stream",
     "text": [
      "2024-05-30 18:32:43.999603: E tensorflow/compiler/xla/stream_executor/cuda/cuda_driver.cc:268] failed call to cuInit: CUDA_ERROR_UNKNOWN: unknown error\n",
      "2024-05-30 18:32:43.999627: I tensorflow/compiler/xla/stream_executor/cuda/cuda_diagnostics.cc:168] retrieving CUDA diagnostic information for host: davinci-Precision-3541\n",
      "2024-05-30 18:32:43.999632: I tensorflow/compiler/xla/stream_executor/cuda/cuda_diagnostics.cc:175] hostname: davinci-Precision-3541\n",
      "2024-05-30 18:32:43.999705: I tensorflow/compiler/xla/stream_executor/cuda/cuda_diagnostics.cc:199] libcuda reported version is: 535.146.2\n",
      "2024-05-30 18:32:43.999720: I tensorflow/compiler/xla/stream_executor/cuda/cuda_diagnostics.cc:203] kernel reported version is: 535.146.2\n",
      "2024-05-30 18:32:43.999724: I tensorflow/compiler/xla/stream_executor/cuda/cuda_diagnostics.cc:309] kernel version seems to match DSO: 535.146.2\n"
     ]
    }
   ],
   "source": [
    "model = CustomModel()"
   ]
  },
  {
   "cell_type": "code",
   "execution_count": 7,
   "id": "263c5042",
   "metadata": {},
   "outputs": [],
   "source": [
    "# compile the model\n",
    "model.compile(optimizer=Adam(), loss=CategoricalCrossentropy(), metrics=[Accuracy()])"
   ]
  },
  {
   "cell_type": "code",
   "execution_count": 9,
   "id": "3ce36be0",
   "metadata": {},
   "outputs": [
    {
     "name": "stdout",
     "output_type": "stream",
     "text": [
      "Epoch 1/10\n",
      "600/600 [==============================] - 110s 181ms/step - loss: 0.2787 - accuracy: 0.0041 - val_loss: 0.1717 - val_accuracy: 0.0025\n",
      "Epoch 2/10\n",
      "600/600 [==============================] - 111s 185ms/step - loss: 0.1237 - accuracy: 0.0082 - val_loss: 0.1553 - val_accuracy: 0.0173\n",
      "Epoch 3/10\n",
      "600/600 [==============================] - 112s 186ms/step - loss: 0.0927 - accuracy: 0.0060 - val_loss: 0.1230 - val_accuracy: 0.0045\n",
      "Epoch 4/10\n",
      "600/600 [==============================] - 112s 186ms/step - loss: 0.0607 - accuracy: 0.0032 - val_loss: 0.1177 - val_accuracy: 0.0022\n",
      "Epoch 5/10\n",
      "600/600 [==============================] - 112s 186ms/step - loss: 0.0493 - accuracy: 0.0035 - val_loss: 0.0781 - val_accuracy: 0.0034\n",
      "Epoch 6/10\n",
      "600/600 [==============================] - 112s 187ms/step - loss: 0.0484 - accuracy: 0.0039 - val_loss: 0.0994 - val_accuracy: 0.0036\n",
      "Epoch 7/10\n",
      "600/600 [==============================] - 111s 185ms/step - loss: 0.0438 - accuracy: 0.0043 - val_loss: 0.1246 - val_accuracy: 0.0041\n",
      "Epoch 8/10\n",
      "600/600 [==============================] - 112s 187ms/step - loss: 0.0346 - accuracy: 0.0045 - val_loss: 0.1224 - val_accuracy: 0.0093\n",
      "Epoch 9/10\n",
      "600/600 [==============================] - 113s 188ms/step - loss: 0.0298 - accuracy: 0.0054 - val_loss: 0.0855 - val_accuracy: 0.0101\n",
      "Epoch 10/10\n",
      "600/600 [==============================] - 113s 188ms/step - loss: 0.0271 - accuracy: 0.0064 - val_loss: 0.0939 - val_accuracy: 0.0124\n"
     ]
    },
    {
     "data": {
      "text/plain": [
       "<keras.src.callbacks.History at 0x7f5db1e7b8d0>"
      ]
     },
     "execution_count": 9,
     "metadata": {},
     "output_type": "execute_result"
    }
   ],
   "source": [
    "# train the model\n",
    "\n",
    "model.fit(x_train, y_train, epochs=10, batch_size=100, validation_data=(x_test, y_test))"
   ]
  },
  {
   "cell_type": "code",
   "execution_count": 10,
   "id": "0137a85a",
   "metadata": {},
   "outputs": [
    {
     "name": "stdout",
     "output_type": "stream",
     "text": [
      "313/313 [==============================] - 3s 9ms/step - loss: 0.0939 - accuracy: 0.0095\n",
      "Test accuracy: 0.0095\n"
     ]
    }
   ],
   "source": [
    "test_loss, test_accuracy = model.evaluate(x_test, y_test)\n",
    "print(f'Test accuracy: {test_accuracy:.4f}')"
   ]
  },
  {
   "cell_type": "code",
   "execution_count": null,
   "id": "9e10c726",
   "metadata": {},
   "outputs": [],
   "source": []
  }
 ],
 "metadata": {
  "kernelspec": {
   "display_name": "Python 3 (ipykernel)",
   "language": "python",
   "name": "python3"
  },
  "language_info": {
   "codemirror_mode": {
    "name": "ipython",
    "version": 3
   },
   "file_extension": ".py",
   "mimetype": "text/x-python",
   "name": "python",
   "nbconvert_exporter": "python",
   "pygments_lexer": "ipython3",
   "version": "3.11.3"
  }
 },
 "nbformat": 4,
 "nbformat_minor": 5
}
